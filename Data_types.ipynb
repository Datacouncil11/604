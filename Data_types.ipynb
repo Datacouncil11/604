{
 "cells": [
  {
   "cell_type": "markdown",
   "id": "97ff89d0-f664-492f-ba6c-fc08ceb85a99",
   "metadata": {},
   "source": [
    "# Data Types in Python"
   ]
  },
  {
   "cell_type": "markdown",
   "id": "422d1d98-314c-46ce-87a4-f4599921a1db",
   "metadata": {},
   "source": [
    "Integer: It is complete Number\n",
    "EG: 1,2,50,100,1000"
   ]
  },
  {
   "cell_type": "code",
   "execution_count": 13,
   "id": "6825f95f-28b6-44f4-8fc3-4d9340384c5c",
   "metadata": {},
   "outputs": [
    {
     "data": {
      "text/plain": [
       "int"
      ]
     },
     "execution_count": 13,
     "metadata": {},
     "output_type": "execute_result"
    }
   ],
   "source": [
    "type(501)"
   ]
  },
  {
   "cell_type": "markdown",
   "id": "1e29ecca-431c-411f-a6f9-644ab33e1ad3",
   "metadata": {},
   "source": [
    "# Float"
   ]
  },
  {
   "cell_type": "markdown",
   "id": "392a98de-6239-41e7-aa2d-39cc3b8d713b",
   "metadata": {},
   "source": [
    "Float is nothing but numbers in decimal values"
   ]
  },
  {
   "cell_type": "code",
   "execution_count": 14,
   "id": "eec4b184-ed8f-4fb7-b28d-a2f047b2ac19",
   "metadata": {},
   "outputs": [
    {
     "data": {
      "text/plain": [
       "float"
      ]
     },
     "execution_count": 14,
     "metadata": {},
     "output_type": "execute_result"
    }
   ],
   "source": [
    "type(10.6)"
   ]
  },
  {
   "cell_type": "markdown",
   "id": "798de70d-95e0-48e5-ad6b-44c31c510fba",
   "metadata": {},
   "source": [
    "# Complex Number"
   ]
  },
  {
   "cell_type": "markdown",
   "id": "35f041b7-e4b4-4654-a955-634b46d6018e",
   "metadata": {},
   "source": [
    "Complex Numbers are used for showcasing Vector Values"
   ]
  },
  {
   "cell_type": "code",
   "execution_count": 15,
   "id": "475dc8f2-f17f-46aa-82f7-2e70a95086a6",
   "metadata": {},
   "outputs": [
    {
     "data": {
      "text/plain": [
       "complex"
      ]
     },
     "execution_count": 15,
     "metadata": {},
     "output_type": "execute_result"
    }
   ],
   "source": [
    "type(10+5j)"
   ]
  },
  {
   "cell_type": "markdown",
   "id": "545c61ba-96e1-4441-88c0-05f5ad97bff8",
   "metadata": {},
   "source": [
    "# String"
   ]
  },
  {
   "cell_type": "markdown",
   "id": "5501f7b3-4e7c-4edd-9e52-c56735481ae1",
   "metadata": {},
   "source": [
    "String is used for writing Words, Letters, Sentences"
   ]
  },
  {
   "cell_type": "code",
   "execution_count": 16,
   "id": "fcadff91-7043-41be-9119-2adffeedc22e",
   "metadata": {},
   "outputs": [
    {
     "data": {
      "text/plain": [
       "'Data'"
      ]
     },
     "execution_count": 16,
     "metadata": {},
     "output_type": "execute_result"
    }
   ],
   "source": [
    "'Data'"
   ]
  },
  {
   "cell_type": "code",
   "execution_count": 17,
   "id": "8676ded6-87e9-47ff-badf-99781ba218c6",
   "metadata": {},
   "outputs": [
    {
     "data": {
      "text/plain": [
       "'Today we are going to learn Data Types in python'"
      ]
     },
     "execution_count": 17,
     "metadata": {},
     "output_type": "execute_result"
    }
   ],
   "source": [
    "'Today we are going to learn Data Types in python'"
   ]
  },
  {
   "cell_type": "code",
   "execution_count": 18,
   "id": "40754a87-ca78-40d1-82e9-62a1febb6bfe",
   "metadata": {},
   "outputs": [
    {
     "data": {
      "text/plain": [
       "str"
      ]
     },
     "execution_count": 18,
     "metadata": {},
     "output_type": "execute_result"
    }
   ],
   "source": [
    "type('Data')"
   ]
  },
  {
   "cell_type": "markdown",
   "id": "f6664203-5e78-4ea2-a46a-e8b2fafdb826",
   "metadata": {},
   "source": [
    "# Boolean"
   ]
  },
  {
   "cell_type": "code",
   "execution_count": 1,
   "id": "09393a36-fd91-4ef9-b208-fb015787725f",
   "metadata": {},
   "outputs": [],
   "source": [
    "x = 5"
   ]
  },
  {
   "cell_type": "code",
   "execution_count": 2,
   "id": "d5d27877-de68-45ee-830d-648fd46bff93",
   "metadata": {},
   "outputs": [
    {
     "data": {
      "text/plain": [
       "5"
      ]
     },
     "execution_count": 2,
     "metadata": {},
     "output_type": "execute_result"
    }
   ],
   "source": [
    "x"
   ]
  },
  {
   "cell_type": "code",
   "execution_count": 3,
   "id": "a565e785-ad23-4cee-bc44-ae8d8c2700ed",
   "metadata": {},
   "outputs": [
    {
     "data": {
      "text/plain": [
       "True"
      ]
     },
     "execution_count": 3,
     "metadata": {},
     "output_type": "execute_result"
    }
   ],
   "source": [
    "5 < 10"
   ]
  },
  {
   "cell_type": "code",
   "execution_count": 4,
   "id": "656bd77b-3446-4622-ada4-e8991b2e9f41",
   "metadata": {},
   "outputs": [
    {
     "data": {
      "text/plain": [
       "False"
      ]
     },
     "execution_count": 4,
     "metadata": {},
     "output_type": "execute_result"
    }
   ],
   "source": [
    "5 > 10"
   ]
  },
  {
   "cell_type": "code",
   "execution_count": 5,
   "id": "ad6ca08a-a7f5-475d-ae4c-69e2b50d3c7d",
   "metadata": {},
   "outputs": [
    {
     "data": {
      "text/plain": [
       "False"
      ]
     },
     "execution_count": 5,
     "metadata": {},
     "output_type": "execute_result"
    }
   ],
   "source": [
    "100 > 200"
   ]
  },
  {
   "cell_type": "code",
   "execution_count": 6,
   "id": "20813f2c-16b6-495a-8daf-2e183e98d857",
   "metadata": {},
   "outputs": [
    {
     "data": {
      "text/plain": [
       "bool"
      ]
     },
     "execution_count": 6,
     "metadata": {},
     "output_type": "execute_result"
    }
   ],
   "source": [
    "type(100 > 200)"
   ]
  },
  {
   "cell_type": "code",
   "execution_count": 7,
   "id": "5c948a2b-5f94-417a-8548-d0771c7123bf",
   "metadata": {},
   "outputs": [
    {
     "data": {
      "text/plain": [
       "bool"
      ]
     },
     "execution_count": 7,
     "metadata": {},
     "output_type": "execute_result"
    }
   ],
   "source": [
    "type(True)"
   ]
  },
  {
   "cell_type": "code",
   "execution_count": 8,
   "id": "dfe68456-ce00-4f21-94e4-9e195b385d63",
   "metadata": {},
   "outputs": [
    {
     "data": {
      "text/plain": [
       "bool"
      ]
     },
     "execution_count": 8,
     "metadata": {},
     "output_type": "execute_result"
    }
   ],
   "source": [
    "type(False)"
   ]
  },
  {
   "cell_type": "raw",
   "id": "fbbeab4c-d06c-4478-801c-9a9b4731b57e",
   "metadata": {},
   "source": [
    "# Data types in python?\n",
    "# Numerical data types in python ?\n",
    "--> Integer\n",
    "--> Float\n",
    "--> Complex\n",
    "# What is String in python ?\n",
    "# Data Type 9.0 "
   ]
  },
  {
   "cell_type": "code",
   "execution_count": 9,
   "id": "72bf76f9-cd86-4bdf-8d8b-319c5411d889",
   "metadata": {},
   "outputs": [
    {
     "data": {
      "text/plain": [
       "float"
      ]
     },
     "execution_count": 9,
     "metadata": {},
     "output_type": "execute_result"
    }
   ],
   "source": [
    "type(9.0)"
   ]
  },
  {
   "cell_type": "code",
   "execution_count": null,
   "id": "64fca277-1fd9-416c-8f8d-02b39a83104d",
   "metadata": {},
   "outputs": [],
   "source": []
  }
 ],
 "metadata": {
  "kernelspec": {
   "display_name": "Python 3 (ipykernel)",
   "language": "python",
   "name": "python3"
  },
  "language_info": {
   "codemirror_mode": {
    "name": "ipython",
    "version": 3
   },
   "file_extension": ".py",
   "mimetype": "text/x-python",
   "name": "python",
   "nbconvert_exporter": "python",
   "pygments_lexer": "ipython3",
   "version": "3.11.7"
  }
 },
 "nbformat": 4,
 "nbformat_minor": 5
}
