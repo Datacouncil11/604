{
 "cells": [
  {
   "cell_type": "markdown",
   "id": "97ff89d0-f664-492f-ba6c-fc08ceb85a99",
   "metadata": {},
   "source": [
    "# Data Types in Python"
   ]
  },
  {
   "cell_type": "markdown",
   "id": "422d1d98-314c-46ce-87a4-f4599921a1db",
   "metadata": {},
   "source": [
    "Integer: It is complete Number\n",
    "EG: 1,2,50,100,1000"
   ]
  },
  {
   "cell_type": "code",
   "execution_count": 13,
   "id": "6825f95f-28b6-44f4-8fc3-4d9340384c5c",
   "metadata": {},
   "outputs": [
    {
     "data": {
      "text/plain": [
       "int"
      ]
     },
     "execution_count": 13,
     "metadata": {},
     "output_type": "execute_result"
    }
   ],
   "source": [
    "type(501)"
   ]
  },
  {
   "cell_type": "markdown",
   "id": "1e29ecca-431c-411f-a6f9-644ab33e1ad3",
   "metadata": {},
   "source": [
    "# Float"
   ]
  },
  {
   "cell_type": "markdown",
   "id": "392a98de-6239-41e7-aa2d-39cc3b8d713b",
   "metadata": {},
   "source": [
    "Float is nothing but numbers in decimal values"
   ]
  },
  {
   "cell_type": "code",
   "execution_count": 14,
   "id": "eec4b184-ed8f-4fb7-b28d-a2f047b2ac19",
   "metadata": {},
   "outputs": [
    {
     "data": {
      "text/plain": [
       "float"
      ]
     },
     "execution_count": 14,
     "metadata": {},
     "output_type": "execute_result"
    }
   ],
   "source": [
    "type(10.6)"
   ]
  },
  {
   "cell_type": "markdown",
   "id": "798de70d-95e0-48e5-ad6b-44c31c510fba",
   "metadata": {},
   "source": [
    "# Complex Number"
   ]
  },
  {
   "cell_type": "markdown",
   "id": "35f041b7-e4b4-4654-a955-634b46d6018e",
   "metadata": {},
   "source": [
    "Complex Numbers are used for showcasing Vector Values"
   ]
  },
  {
   "cell_type": "code",
   "execution_count": 15,
   "id": "475dc8f2-f17f-46aa-82f7-2e70a95086a6",
   "metadata": {},
   "outputs": [
    {
     "data": {
      "text/plain": [
       "complex"
      ]
     },
     "execution_count": 15,
     "metadata": {},
     "output_type": "execute_result"
    }
   ],
   "source": [
    "type(10+5j)"
   ]
  },
  {
   "cell_type": "markdown",
   "id": "545c61ba-96e1-4441-88c0-05f5ad97bff8",
   "metadata": {},
   "source": [
    "# String"
   ]
  },
  {
   "cell_type": "markdown",
   "id": "5501f7b3-4e7c-4edd-9e52-c56735481ae1",
   "metadata": {},
   "source": [
    "String is used for writing Words, Letters, Sentences"
   ]
  },
  {
   "cell_type": "code",
   "execution_count": 16,
   "id": "fcadff91-7043-41be-9119-2adffeedc22e",
   "metadata": {},
   "outputs": [
    {
     "data": {
      "text/plain": [
       "'Data'"
      ]
     },
     "execution_count": 16,
     "metadata": {},
     "output_type": "execute_result"
    }
   ],
   "source": [
    "'Data'"
   ]
  },
  {
   "cell_type": "code",
   "execution_count": 17,
   "id": "8676ded6-87e9-47ff-badf-99781ba218c6",
   "metadata": {},
   "outputs": [
    {
     "data": {
      "text/plain": [
       "'Today we are going to learn Data Types in python'"
      ]
     },
     "execution_count": 17,
     "metadata": {},
     "output_type": "execute_result"
    }
   ],
   "source": [
    "'Today we are going to learn Data Types in python'"
   ]
  },
  {
   "cell_type": "code",
   "execution_count": 18,
   "id": "40754a87-ca78-40d1-82e9-62a1febb6bfe",
   "metadata": {},
   "outputs": [
    {
     "data": {
      "text/plain": [
       "str"
      ]
     },
     "execution_count": 18,
     "metadata": {},
     "output_type": "execute_result"
    }
   ],
   "source": [
    "type('Data')"
   ]
  },
  {
   "cell_type": "code",
   "execution_count": null,
   "id": "e57b69e5-3490-45e2-b2e8-483fe8e01e0b",
   "metadata": {},
   "outputs": [],
   "source": []
  }
 ],
 "metadata": {
  "kernelspec": {
   "display_name": "Python 3 (ipykernel)",
   "language": "python",
   "name": "python3"
  },
  "language_info": {
   "codemirror_mode": {
    "name": "ipython",
    "version": 3
   },
   "file_extension": ".py",
   "mimetype": "text/x-python",
   "name": "python",
   "nbconvert_exporter": "python",
   "pygments_lexer": "ipython3",
   "version": "3.11.7"
  }
 },
 "nbformat": 4,
 "nbformat_minor": 5
}
