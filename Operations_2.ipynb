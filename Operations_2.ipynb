{
 "cells": [
  {
   "cell_type": "code",
   "execution_count": 1,
   "id": "49f3c3c6-1ba2-4543-ae47-44ddb182a33d",
   "metadata": {},
   "outputs": [
    {
     "name": "stdout",
     "output_type": "stream",
     "text": [
      "Data\n"
     ]
    }
   ],
   "source": [
    "print('Data')"
   ]
  },
  {
   "cell_type": "code",
   "execution_count": 2,
   "id": "48aa3180-47e3-4531-9034-dc4044b3f097",
   "metadata": {},
   "outputs": [
    {
     "data": {
      "text/plain": [
       "'Data'"
      ]
     },
     "execution_count": 2,
     "metadata": {},
     "output_type": "execute_result"
    }
   ],
   "source": [
    "'Data'"
   ]
  },
  {
   "cell_type": "code",
   "execution_count": 3,
   "id": "e8017e3e-719a-4ce8-a805-2a12cebcbbbb",
   "metadata": {},
   "outputs": [
    {
     "name": "stdout",
     "output_type": "stream",
     "text": [
      "My age is 20\n"
     ]
    }
   ],
   "source": [
    "print('My age is', 20)"
   ]
  },
  {
   "cell_type": "code",
   "execution_count": 4,
   "id": "cf456d66-2944-4276-861d-01f5e4f59c87",
   "metadata": {},
   "outputs": [
    {
     "name": "stdout",
     "output_type": "stream",
     "text": [
      "Your Birth Date is  20 Dec\n"
     ]
    }
   ],
   "source": [
    "print('Your Birth Date is ', 20 , 'Dec' )"
   ]
  },
  {
   "cell_type": "code",
   "execution_count": 5,
   "id": "ce86d43d-e3a3-4997-8814-c1d23c069d9a",
   "metadata": {},
   "outputs": [],
   "source": [
    "# Variables"
   ]
  },
  {
   "cell_type": "code",
   "execution_count": 6,
   "id": "4e3881fa-820b-4a2a-b95e-8034405e0769",
   "metadata": {},
   "outputs": [],
   "source": [
    "y = 5"
   ]
  },
  {
   "cell_type": "code",
   "execution_count": 7,
   "id": "29cc93eb-3cd7-4956-905a-d8f6e4bcaab3",
   "metadata": {},
   "outputs": [
    {
     "name": "stdout",
     "output_type": "stream",
     "text": [
      "5\n"
     ]
    }
   ],
   "source": [
    "print(y)"
   ]
  },
  {
   "cell_type": "code",
   "execution_count": 8,
   "id": "0c704257-d047-42b5-afab-dfaed6a0bc7a",
   "metadata": {},
   "outputs": [],
   "source": [
    "x = 'your name is xyz'"
   ]
  },
  {
   "cell_type": "code",
   "execution_count": 9,
   "id": "6923d0fd-80a2-47c1-b386-f3602ce8b1c5",
   "metadata": {},
   "outputs": [
    {
     "name": "stdout",
     "output_type": "stream",
     "text": [
      "your name is xyz\n"
     ]
    }
   ],
   "source": [
    "print(x)"
   ]
  },
  {
   "cell_type": "code",
   "execution_count": 10,
   "id": "4bba3317-c539-4bb3-a49d-3b0ec5a1fdfe",
   "metadata": {},
   "outputs": [],
   "source": [
    "a = 10\n",
    "b = 5"
   ]
  },
  {
   "cell_type": "code",
   "execution_count": 11,
   "id": "05b11f31-ec94-4843-bba3-f166babce178",
   "metadata": {},
   "outputs": [
    {
     "data": {
      "text/plain": [
       "15"
      ]
     },
     "execution_count": 11,
     "metadata": {},
     "output_type": "execute_result"
    }
   ],
   "source": [
    "a + b"
   ]
  },
  {
   "cell_type": "code",
   "execution_count": 12,
   "id": "69045ab6-1153-47a5-a148-50929a8a12a3",
   "metadata": {},
   "outputs": [],
   "source": [
    "c = a + b"
   ]
  },
  {
   "cell_type": "code",
   "execution_count": 13,
   "id": "c11ed29a-8fd0-4e39-9cc5-ec778275fba9",
   "metadata": {},
   "outputs": [
    {
     "name": "stdout",
     "output_type": "stream",
     "text": [
      "15\n"
     ]
    }
   ],
   "source": [
    "print(c)"
   ]
  },
  {
   "cell_type": "code",
   "execution_count": 18,
   "id": "4a874c02-87f3-487b-9f54-3cbe0221fd06",
   "metadata": {},
   "outputs": [],
   "source": [
    "s = 'My Name is '\n",
    "f = 'Sham'"
   ]
  },
  {
   "cell_type": "code",
   "execution_count": 19,
   "id": "dec74666-b04a-4e17-881b-147d77fd165a",
   "metadata": {},
   "outputs": [
    {
     "data": {
      "text/plain": [
       "'My Name is Sham'"
      ]
     },
     "execution_count": 19,
     "metadata": {},
     "output_type": "execute_result"
    }
   ],
   "source": [
    "s + f"
   ]
  },
  {
   "cell_type": "code",
   "execution_count": 20,
   "id": "8063b251-dcb6-4661-879f-8a4800b3bb8b",
   "metadata": {},
   "outputs": [],
   "source": [
    "q = s + f"
   ]
  },
  {
   "cell_type": "code",
   "execution_count": 21,
   "id": "ef56be9b-b84a-4fe3-9a10-cb20b1848c4e",
   "metadata": {},
   "outputs": [
    {
     "name": "stdout",
     "output_type": "stream",
     "text": [
      "My Name is Sham\n"
     ]
    }
   ],
   "source": [
    "print(q)"
   ]
  },
  {
   "cell_type": "code",
   "execution_count": 22,
   "id": "6e949560-1ff8-4754-9dde-718f5351f273",
   "metadata": {},
   "outputs": [],
   "source": [
    "f = 5\n",
    "h = 3"
   ]
  },
  {
   "cell_type": "code",
   "execution_count": 23,
   "id": "76d12d21-419c-44c5-a4be-17be2b5dd56c",
   "metadata": {},
   "outputs": [
    {
     "data": {
      "text/plain": [
       "1.6666666666666667"
      ]
     },
     "execution_count": 23,
     "metadata": {},
     "output_type": "execute_result"
    }
   ],
   "source": [
    "f/h"
   ]
  },
  {
   "cell_type": "code",
   "execution_count": 24,
   "id": "2ef41eea-a67f-44fe-9623-1c4c61f59057",
   "metadata": {},
   "outputs": [
    {
     "data": {
      "text/plain": [
       "15"
      ]
     },
     "execution_count": 24,
     "metadata": {},
     "output_type": "execute_result"
    }
   ],
   "source": [
    "f * h"
   ]
  },
  {
   "cell_type": "code",
   "execution_count": 25,
   "id": "b2b6831f-ab0f-4e55-a53d-a1a70dec4c2c",
   "metadata": {},
   "outputs": [
    {
     "data": {
      "text/plain": [
       "2"
      ]
     },
     "execution_count": 25,
     "metadata": {},
     "output_type": "execute_result"
    }
   ],
   "source": [
    "f - h"
   ]
  },
  {
   "cell_type": "code",
   "execution_count": 30,
   "id": "b6742b59-a563-4955-b11d-00aee672dece",
   "metadata": {},
   "outputs": [],
   "source": [
    "k = 'Your name is '\n",
    "j = 'XYZ '\n",
    "l = 'And your Age is'\n",
    "p = 16"
   ]
  },
  {
   "cell_type": "code",
   "execution_count": 31,
   "id": "7bbcbcad-b71f-4030-9c3c-ceefa5f8d7bf",
   "metadata": {},
   "outputs": [
    {
     "name": "stdout",
     "output_type": "stream",
     "text": [
      "Your name is  XYZ  And your Age is 16\n"
     ]
    }
   ],
   "source": [
    "print(k,j,l,p)"
   ]
  },
  {
   "cell_type": "code",
   "execution_count": null,
   "id": "e2b066a9-3d59-4a2f-bf2b-b047ff995a73",
   "metadata": {},
   "outputs": [],
   "source": []
  }
 ],
 "metadata": {
  "kernelspec": {
   "display_name": "Python 3 (ipykernel)",
   "language": "python",
   "name": "python3"
  },
  "language_info": {
   "codemirror_mode": {
    "name": "ipython",
    "version": 3
   },
   "file_extension": ".py",
   "mimetype": "text/x-python",
   "name": "python",
   "nbconvert_exporter": "python",
   "pygments_lexer": "ipython3",
   "version": "3.11.7"
  }
 },
 "nbformat": 4,
 "nbformat_minor": 5
}
