{
 "cells": [
  {
   "cell_type": "markdown",
   "id": "a5ea0748-7062-42f5-aba3-4972fb5ee7ec",
   "metadata": {},
   "source": [
    "# Dictinory"
   ]
  },
  {
   "cell_type": "code",
   "execution_count": 1,
   "id": "62ab89df-f83e-43b8-94b1-e0e159e993d8",
   "metadata": {},
   "outputs": [],
   "source": [
    "dic1 = {'a':100}"
   ]
  },
  {
   "cell_type": "code",
   "execution_count": 2,
   "id": "408cf698-f5ef-4b24-880a-ea5cf7d37afe",
   "metadata": {},
   "outputs": [
    {
     "data": {
      "text/plain": [
       "{'a': 100}"
      ]
     },
     "execution_count": 2,
     "metadata": {},
     "output_type": "execute_result"
    }
   ],
   "source": [
    "dic1"
   ]
  },
  {
   "cell_type": "code",
   "execution_count": 3,
   "id": "93b40e96-7cff-4f9e-8a83-923992a486c1",
   "metadata": {},
   "outputs": [
    {
     "data": {
      "text/plain": [
       "dict"
      ]
     },
     "execution_count": 3,
     "metadata": {},
     "output_type": "execute_result"
    }
   ],
   "source": [
    "type(dic1)"
   ]
  },
  {
   "cell_type": "code",
   "execution_count": 4,
   "id": "2761bfbb-fb92-4ddf-91d1-98731ad1a249",
   "metadata": {},
   "outputs": [],
   "source": [
    "dic2 = {'Name':'Sachin', 'Age':30, 'City':'Delhi'}"
   ]
  },
  {
   "cell_type": "code",
   "execution_count": 5,
   "id": "8b9744c3-6daf-49c0-8ea2-5a1261e10fd2",
   "metadata": {},
   "outputs": [
    {
     "data": {
      "text/plain": [
       "{'Name': 'Sachin', 'Age': 30, 'City': 'Delhi'}"
      ]
     },
     "execution_count": 5,
     "metadata": {},
     "output_type": "execute_result"
    }
   ],
   "source": [
    "dic2"
   ]
  },
  {
   "cell_type": "code",
   "execution_count": 6,
   "id": "669d288a-b989-4ba6-a1cb-c6e0325a92db",
   "metadata": {},
   "outputs": [
    {
     "data": {
      "text/plain": [
       "30"
      ]
     },
     "execution_count": 6,
     "metadata": {},
     "output_type": "execute_result"
    }
   ],
   "source": [
    "dic2['Age']"
   ]
  },
  {
   "cell_type": "code",
   "execution_count": 7,
   "id": "df3a9ad0-a1b3-4cb0-8641-edb7cc7e7c83",
   "metadata": {},
   "outputs": [
    {
     "data": {
      "text/plain": [
       "'Sachin'"
      ]
     },
     "execution_count": 7,
     "metadata": {},
     "output_type": "execute_result"
    }
   ],
   "source": [
    "dic2['Name']"
   ]
  },
  {
   "cell_type": "code",
   "execution_count": 8,
   "id": "ed1ea4b6-9970-4b67-885c-c12b8d5e1a3d",
   "metadata": {},
   "outputs": [],
   "source": [
    "dic2['City'] = 'Pune'"
   ]
  },
  {
   "cell_type": "code",
   "execution_count": 9,
   "id": "4053eb35-4fc4-4d81-9a49-426385164289",
   "metadata": {},
   "outputs": [
    {
     "data": {
      "text/plain": [
       "{'Name': 'Sachin', 'Age': 30, 'City': 'Pune'}"
      ]
     },
     "execution_count": 9,
     "metadata": {},
     "output_type": "execute_result"
    }
   ],
   "source": [
    "dic2"
   ]
  },
  {
   "cell_type": "code",
   "execution_count": 10,
   "id": "60e704de-4b14-48e0-893c-e04a1ca2a7e4",
   "metadata": {},
   "outputs": [
    {
     "data": {
      "text/plain": [
       "dict_keys(['Name', 'Age', 'City'])"
      ]
     },
     "execution_count": 10,
     "metadata": {},
     "output_type": "execute_result"
    }
   ],
   "source": [
    "dic2.keys()"
   ]
  },
  {
   "cell_type": "code",
   "execution_count": 11,
   "id": "a8a54936-99e1-4155-9937-c28e2d857a60",
   "metadata": {},
   "outputs": [
    {
     "data": {
      "text/plain": [
       "dict_values(['Sachin', 30, 'Pune'])"
      ]
     },
     "execution_count": 11,
     "metadata": {},
     "output_type": "execute_result"
    }
   ],
   "source": [
    "dic2.values()"
   ]
  },
  {
   "cell_type": "code",
   "execution_count": 12,
   "id": "7a47bb07-7a9e-4fe9-b4a5-3a2446dbc75b",
   "metadata": {},
   "outputs": [],
   "source": [
    "# Solve Problems related to list"
   ]
  },
  {
   "cell_type": "code",
   "execution_count": 13,
   "id": "d29d740d-6eae-4e68-8854-03307813604d",
   "metadata": {},
   "outputs": [],
   "source": [
    "s = [1,2,3,4,5,[100,200,300], 6,7]"
   ]
  },
  {
   "cell_type": "code",
   "execution_count": 14,
   "id": "161e4471-e040-495b-a17a-dc7a00f4cc19",
   "metadata": {},
   "outputs": [
    {
     "data": {
      "text/plain": [
       "[100, 200, 300]"
      ]
     },
     "execution_count": 14,
     "metadata": {},
     "output_type": "execute_result"
    }
   ],
   "source": [
    "s[5]"
   ]
  },
  {
   "cell_type": "code",
   "execution_count": 15,
   "id": "06e86e6f-b939-429c-b513-4d868a3f5da1",
   "metadata": {},
   "outputs": [
    {
     "data": {
      "text/plain": [
       "100"
      ]
     },
     "execution_count": 15,
     "metadata": {},
     "output_type": "execute_result"
    }
   ],
   "source": [
    "s[5][0]"
   ]
  },
  {
   "cell_type": "code",
   "execution_count": 16,
   "id": "d2779530-f115-4297-b9f1-841fdd765b87",
   "metadata": {},
   "outputs": [
    {
     "data": {
      "text/plain": [
       "300"
      ]
     },
     "execution_count": 16,
     "metadata": {},
     "output_type": "execute_result"
    }
   ],
   "source": [
    "s[5][2]"
   ]
  },
  {
   "cell_type": "code",
   "execution_count": 17,
   "id": "d17c4fe3-5a8a-4df6-be79-dfc3f919464a",
   "metadata": {},
   "outputs": [],
   "source": [
    "k = [1.5,2,3,4,5,[100,[1000,2000,3000],200,300]]"
   ]
  },
  {
   "cell_type": "code",
   "execution_count": 18,
   "id": "41152454-dba6-47e0-9cb8-81978578502f",
   "metadata": {},
   "outputs": [
    {
     "data": {
      "text/plain": [
       "[100, [1000, 2000, 3000], 200, 300]"
      ]
     },
     "execution_count": 18,
     "metadata": {},
     "output_type": "execute_result"
    }
   ],
   "source": [
    "k[5]"
   ]
  },
  {
   "cell_type": "code",
   "execution_count": 19,
   "id": "7401e4d2-5c1a-412c-8af7-6ddcd5fcd056",
   "metadata": {},
   "outputs": [
    {
     "data": {
      "text/plain": [
       "[1000, 2000, 3000]"
      ]
     },
     "execution_count": 19,
     "metadata": {},
     "output_type": "execute_result"
    }
   ],
   "source": [
    "k[5][1]"
   ]
  },
  {
   "cell_type": "code",
   "execution_count": 22,
   "id": "f2687ce7-611d-4258-bce0-323c28a6808a",
   "metadata": {},
   "outputs": [
    {
     "data": {
      "text/plain": [
       "1000"
      ]
     },
     "execution_count": 22,
     "metadata": {},
     "output_type": "execute_result"
    }
   ],
   "source": [
    "k[5][1][0]"
   ]
  },
  {
   "cell_type": "markdown",
   "id": "ceb63938-4593-4bb0-8509-d9fcc51095cf",
   "metadata": {},
   "source": [
    "What is pyhon ?\n",
    "Why python is used for Data Science/ Data Analysis?\n",
    "Data Types in python ?\n",
    "Can we perform concatinate operation b/w String & Int?\n",
    "Can we perform concatinate operation b/w Float & Int ?\n",
    "How we are going write down string data type in python?\n",
    "Data Strectures in python?\n",
    "What iis the diff b/w List  and Tuple?\n",
    "What is Set and its specification?\n",
    "What is Dictinory and its specification?"
   ]
  }
 ],
 "metadata": {
  "kernelspec": {
   "display_name": "Python 3 (ipykernel)",
   "language": "python",
   "name": "python3"
  },
  "language_info": {
   "codemirror_mode": {
    "name": "ipython",
    "version": 3
   },
   "file_extension": ".py",
   "mimetype": "text/x-python",
   "name": "python",
   "nbconvert_exporter": "python",
   "pygments_lexer": "ipython3",
   "version": "3.11.7"
  }
 },
 "nbformat": 4,
 "nbformat_minor": 5
}
