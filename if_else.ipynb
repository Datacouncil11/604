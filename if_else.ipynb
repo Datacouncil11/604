{
 "cells": [
  {
   "cell_type": "code",
   "execution_count": 1,
   "id": "8f740cd1-5345-4ca1-906f-0eca5bab1a10",
   "metadata": {},
   "outputs": [],
   "source": [
    "l = [1,2,3,4]"
   ]
  },
  {
   "cell_type": "code",
   "execution_count": 2,
   "id": "7ed10b1d-32d9-4c5d-a3dc-3e0211bc66e5",
   "metadata": {},
   "outputs": [],
   "source": [
    "l.append(12)"
   ]
  },
  {
   "cell_type": "code",
   "execution_count": 3,
   "id": "4e2bb998-c1df-49a0-a6ea-390cae52f817",
   "metadata": {},
   "outputs": [
    {
     "data": {
      "text/plain": [
       "[1, 2, 3, 4, 12]"
      ]
     },
     "execution_count": 3,
     "metadata": {},
     "output_type": "execute_result"
    }
   ],
   "source": [
    "l"
   ]
  },
  {
   "cell_type": "code",
   "execution_count": 5,
   "id": "40fb4291-2fe6-4339-b15d-c5c4a1a201c0",
   "metadata": {},
   "outputs": [
    {
     "data": {
      "text/plain": [
       "1"
      ]
     },
     "execution_count": 5,
     "metadata": {},
     "output_type": "execute_result"
    }
   ],
   "source": [
    "l.count(3)"
   ]
  },
  {
   "cell_type": "code",
   "execution_count": 6,
   "id": "6fa119c9-33b4-4252-b59c-3f9c08dadf6c",
   "metadata": {},
   "outputs": [
    {
     "name": "stdout",
     "output_type": "stream",
     "text": [
      "Greater\n"
     ]
    }
   ],
   "source": [
    "if 10 > 5:\n",
    "    print('Greater')\n",
    "else:\n",
    "    print('Not greater')"
   ]
  },
  {
   "cell_type": "code",
   "execution_count": 7,
   "id": "b8f17a99-e528-4c92-9152-60d152a3ad8f",
   "metadata": {},
   "outputs": [
    {
     "name": "stdout",
     "output_type": "stream",
     "text": [
      "Not greater\n"
     ]
    }
   ],
   "source": [
    "if 10 < 5:\n",
    "    print('Greater')\n",
    "else:\n",
    "    print('Not greater')"
   ]
  },
  {
   "cell_type": "code",
   "execution_count": 9,
   "id": "eb3a94f6-44d0-4579-8f9f-e937ef7f87a4",
   "metadata": {},
   "outputs": [
    {
     "name": "stdout",
     "output_type": "stream",
     "text": [
      "Fail\n"
     ]
    }
   ],
   "source": [
    "marks = 10\n",
    "if marks > 35:\n",
    "    print('Pass')\n",
    "else:\n",
    "    print('Fail')"
   ]
  },
  {
   "cell_type": "code",
   "execution_count": 10,
   "id": "c4bb0fcd-784f-4af9-9ed8-34994bfb52ca",
   "metadata": {},
   "outputs": [
    {
     "name": "stdout",
     "output_type": "stream",
     "text": [
      "Very low pointer\n"
     ]
    }
   ],
   "source": [
    "pointer = 4\n",
    "if pointer > 5:\n",
    "    print('Best pinter')\n",
    "else:\n",
    "    print('Very low pointer')"
   ]
  },
  {
   "cell_type": "code",
   "execution_count": 11,
   "id": "c25c4e14-4f57-447f-b26a-94a2e85cc7e0",
   "metadata": {},
   "outputs": [],
   "source": [
    "# if elif else"
   ]
  },
  {
   "cell_type": "code",
   "execution_count": 13,
   "id": "c8874871-6d5a-4f53-ba5f-061712e6327f",
   "metadata": {},
   "outputs": [
    {
     "name": "stdout",
     "output_type": "stream",
     "text": [
      "Very low\n"
     ]
    }
   ],
   "source": [
    "pointer = 2\n",
    "if pointer > 8:\n",
    "    print('A+')\n",
    "elif pointer > 6:\n",
    "    print('B+')\n",
    "elif pointer > 4:\n",
    "    print('C+')\n",
    "else:\n",
    "    print('Very low')"
   ]
  },
  {
   "cell_type": "code",
   "execution_count": 16,
   "id": "3ea0bd5f-ab7d-4814-aa7c-9f0201d1fa91",
   "metadata": {},
   "outputs": [
    {
     "name": "stdin",
     "output_type": "stream",
     "text": [
      "Write your marks 38\n"
     ]
    },
    {
     "name": "stdout",
     "output_type": "stream",
     "text": [
      "Pass\n"
     ]
    }
   ],
   "source": [
    "marks = int(input('Write your marks'))\n",
    "\n",
    "if marks > 90:\n",
    "    print('A+')\n",
    "elif marks > 70:\n",
    "    print('B+')\n",
    "elif marks  > 35:\n",
    "    print('Pass')\n",
    "else:\n",
    "    print('Fail')"
   ]
  },
  {
   "cell_type": "code",
   "execution_count": 18,
   "id": "42c0ec21-19d7-437e-ad88-410b68b969b2",
   "metadata": {},
   "outputs": [
    {
     "name": "stdin",
     "output_type": "stream",
     "text": [
      "Enter your course name data analysis\n"
     ]
    },
    {
     "name": "stdout",
     "output_type": "stream",
     "text": [
      "Python+STATS+POWER BI, Yes it is avilable\n"
     ]
    }
   ],
   "source": [
    "course = input('Enter your course name')\n",
    "\n",
    "if course == 'data science':\n",
    "    print('ML+DL+GENAI, DS is avilable')\n",
    "elif course == 'data analysis':\n",
    "    print('Python+STATS+POWER BI, Yes it is avilable')\n",
    "else:\n",
    "    print('No your course is not avilable')"
   ]
  },
  {
   "cell_type": "code",
   "execution_count": 22,
   "id": "3e95dc11-9a11-497f-8b93-a4299e39f842",
   "metadata": {},
   "outputs": [
    {
     "name": "stdin",
     "output_type": "stream",
     "text": [
      "Marks 150\n"
     ]
    },
    {
     "name": "stdout",
     "output_type": "stream",
     "text": [
      "Please write valid marks between 0 to 100\n"
     ]
    }
   ],
   "source": [
    "marks = int(input('Marks'))\n",
    "\n",
    "if marks > 90 and marks < 100:\n",
    "    print('A')\n",
    "elif marks > 50 and marks < 90:\n",
    "    print('B')\n",
    "elif marks > 35 and marks < 50:\n",
    "    print('C')\n",
    "elif marks > 0 and marks < 35:\n",
    "    print('Fail')\n",
    "else:\n",
    "    print('Please write valid marks between 0 to 100')"
   ]
  },
  {
   "cell_type": "code",
   "execution_count": null,
   "id": "3ba755d9-877b-4250-94d3-3662dd783bd8",
   "metadata": {},
   "outputs": [],
   "source": []
  }
 ],
 "metadata": {
  "kernelspec": {
   "display_name": "Python 3 (ipykernel)",
   "language": "python",
   "name": "python3"
  },
  "language_info": {
   "codemirror_mode": {
    "name": "ipython",
    "version": 3
   },
   "file_extension": ".py",
   "mimetype": "text/x-python",
   "name": "python",
   "nbconvert_exporter": "python",
   "pygments_lexer": "ipython3",
   "version": "3.11.7"
  }
 },
 "nbformat": 4,
 "nbformat_minor": 5
}
