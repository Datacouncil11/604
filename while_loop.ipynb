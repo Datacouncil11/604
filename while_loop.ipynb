{
 "cells": [
  {
   "cell_type": "code",
   "execution_count": 1,
   "id": "5487c408-f6a2-4cb7-acc2-e155f0e627b3",
   "metadata": {},
   "outputs": [],
   "source": [
    "l = [1,2,3,4,[100,200,300]]"
   ]
  },
  {
   "cell_type": "code",
   "execution_count": 2,
   "id": "005222c0-ff2a-4186-9d25-ed0b31b06519",
   "metadata": {},
   "outputs": [
    {
     "name": "stdout",
     "output_type": "stream",
     "text": [
      "1\n",
      "2\n",
      "3\n",
      "4\n",
      "[100, 200, 300]\n"
     ]
    }
   ],
   "source": [
    "for i in l:\n",
    "    print(i)"
   ]
  },
  {
   "cell_type": "code",
   "execution_count": 4,
   "id": "ae6c92b8-c389-484d-9006-ef2cfcb013e0",
   "metadata": {},
   "outputs": [
    {
     "name": "stdout",
     "output_type": "stream",
     "text": [
      "1 <class 'int'>\n",
      "2 <class 'int'>\n",
      "3 <class 'int'>\n",
      "4 <class 'int'>\n",
      "[100, 200, 300] <class 'list'>\n"
     ]
    }
   ],
   "source": [
    "for i in l:\n",
    "    print(i,type(i))"
   ]
  },
  {
   "cell_type": "code",
   "execution_count": 5,
   "id": "172ee341-c4d0-4780-97e1-e5218b91712e",
   "metadata": {},
   "outputs": [
    {
     "name": "stdout",
     "output_type": "stream",
     "text": [
      "100\n",
      "200\n",
      "300\n"
     ]
    }
   ],
   "source": [
    "for i in l:\n",
    "    if type(i) == list:\n",
    "        for num in i:\n",
    "            print(num)"
   ]
  },
  {
   "cell_type": "code",
   "execution_count": 7,
   "id": "2b6dc73a-eadf-4154-8233-ce8eb1363f79",
   "metadata": {},
   "outputs": [],
   "source": [
    "mix = [1.5,2,1,'Data', True, 8] # Fetch only inter type f data"
   ]
  },
  {
   "cell_type": "code",
   "execution_count": 8,
   "id": "396a1073-52bd-4578-af6d-b4d0d6714423",
   "metadata": {},
   "outputs": [
    {
     "name": "stdout",
     "output_type": "stream",
     "text": [
      "1.5\n",
      "2\n",
      "1\n",
      "Data\n",
      "True\n",
      "8\n"
     ]
    }
   ],
   "source": [
    "for i in mix:\n",
    "    print(i)"
   ]
  },
  {
   "cell_type": "code",
   "execution_count": 9,
   "id": "411aca04-cd79-4ce2-bc57-299ed2fda8da",
   "metadata": {},
   "outputs": [
    {
     "name": "stdout",
     "output_type": "stream",
     "text": [
      "2\n",
      "1\n",
      "8\n"
     ]
    }
   ],
   "source": [
    "for i in mix:\n",
    "    if type(i) == int:\n",
    "        print(i)"
   ]
  },
  {
   "cell_type": "code",
   "execution_count": 10,
   "id": "7adcd342-2caa-4929-9801-30c918a62dce",
   "metadata": {},
   "outputs": [
    {
     "name": "stdout",
     "output_type": "stream",
     "text": [
      "Data\n"
     ]
    }
   ],
   "source": [
    "for i in mix:\n",
    "    if type(i) == str:\n",
    "        print(i)"
   ]
  },
  {
   "cell_type": "code",
   "execution_count": 11,
   "id": "8ad8af29-31e2-4ddb-9554-f9d96283ff0a",
   "metadata": {},
   "outputs": [],
   "source": [
    "a = 5"
   ]
  },
  {
   "cell_type": "code",
   "execution_count": 12,
   "id": "268f7c7c-22a7-4162-bb59-40a33d9c28b3",
   "metadata": {},
   "outputs": [
    {
     "name": "stdout",
     "output_type": "stream",
     "text": [
      "5\n",
      "6\n",
      "7\n",
      "8\n",
      "9\n"
     ]
    }
   ],
   "source": [
    "while a < 10:\n",
    "    print(a)\n",
    "    a = a + 1"
   ]
  },
  {
   "cell_type": "code",
   "execution_count": 14,
   "id": "f7db81b1-8cbc-4d1b-a7e9-c2e394b3b905",
   "metadata": {},
   "outputs": [],
   "source": [
    "s = 0"
   ]
  },
  {
   "cell_type": "code",
   "execution_count": 15,
   "id": "0b099c56-85ba-4315-a43a-406acb435e28",
   "metadata": {},
   "outputs": [
    {
     "name": "stdout",
     "output_type": "stream",
     "text": [
      "0\n",
      "1\n",
      "2\n"
     ]
    }
   ],
   "source": [
    "while s < 3:\n",
    "    print(s)\n",
    "    s = s + 1"
   ]
  },
  {
   "cell_type": "code",
   "execution_count": 16,
   "id": "4b6d60a5-6d43-4378-9a4f-7fb36dd63007",
   "metadata": {},
   "outputs": [],
   "source": [
    "age = 30 "
   ]
  },
  {
   "cell_type": "code",
   "execution_count": 17,
   "id": "95b8949b-0919-47fd-9644-d91690de89b9",
   "metadata": {},
   "outputs": [
    {
     "name": "stdout",
     "output_type": "stream",
     "text": [
      "Your age is below 35 30\n",
      "Your age is below 35 31\n",
      "Your age is below 35 32\n",
      "Your age is below 35 33\n",
      "Your age is below 35 34\n"
     ]
    }
   ],
   "source": [
    "while age < 35:\n",
    "    print(\"Your age is below 35\", age)\n",
    "    age = age + 1"
   ]
  },
  {
   "cell_type": "code",
   "execution_count": 18,
   "id": "2c3e8c3e-6fa8-4bc0-90ae-d441837b71e9",
   "metadata": {},
   "outputs": [
    {
     "name": "stdout",
     "output_type": "stream",
     "text": [
      "XYZ\n"
     ]
    },
    {
     "name": "stdin",
     "output_type": "stream",
     "text": [
      "Enter stp to exit loop jhbhv\n"
     ]
    },
    {
     "name": "stdout",
     "output_type": "stream",
     "text": [
      "jhbhv\n"
     ]
    },
    {
     "name": "stdin",
     "output_type": "stream",
     "text": [
      "Enter stp to exit loop go\n"
     ]
    },
    {
     "name": "stdout",
     "output_type": "stream",
     "text": [
      "go\n"
     ]
    },
    {
     "name": "stdin",
     "output_type": "stream",
     "text": [
      "Enter stp to exit loop fly\n"
     ]
    },
    {
     "name": "stdout",
     "output_type": "stream",
     "text": [
      "fly\n"
     ]
    },
    {
     "name": "stdin",
     "output_type": "stream",
     "text": [
      "Enter stp to exit loop wait\n"
     ]
    },
    {
     "name": "stdout",
     "output_type": "stream",
     "text": [
      "wait\n"
     ]
    },
    {
     "name": "stdin",
     "output_type": "stream",
     "text": [
      "Enter stp to exit loop stop\n"
     ]
    }
   ],
   "source": [
    "user_input = 'XYZ'\n",
    "while user_input != 'stop':\n",
    "    print(user_input)\n",
    "    user_input = input('Enter stp to exit loop')"
   ]
  },
  {
   "cell_type": "code",
   "execution_count": 19,
   "id": "cc0bc481-80c7-4e5f-bc0b-3e17e293aaba",
   "metadata": {},
   "outputs": [
    {
     "name": "stdout",
     "output_type": "stream",
     "text": [
      "No Driving\n"
     ]
    },
    {
     "name": "stdin",
     "output_type": "stream",
     "text": [
      "Enter your age 12\n"
     ]
    },
    {
     "name": "stdout",
     "output_type": "stream",
     "text": [
      "No Driving\n"
     ]
    },
    {
     "name": "stdin",
     "output_type": "stream",
     "text": [
      "Enter your age 10\n"
     ]
    },
    {
     "name": "stdout",
     "output_type": "stream",
     "text": [
      "No Driving\n"
     ]
    },
    {
     "name": "stdin",
     "output_type": "stream",
     "text": [
      "Enter your age 21\n"
     ]
    }
   ],
   "source": [
    "age = 15\n",
    "while age < 18:\n",
    "    print('No Driving')\n",
    "    age = int(input('Enter your age'))"
   ]
  },
  {
   "cell_type": "code",
   "execution_count": 20,
   "id": "67c90ffe-87a9-4c51-8a28-31d65c20b79b",
   "metadata": {},
   "outputs": [],
   "source": [
    "# Questions --> Answers"
   ]
  },
  {
   "cell_type": "code",
   "execution_count": null,
   "id": "dcfe4389-c1ae-4347-bec1-d5eaddf3e336",
   "metadata": {},
   "outputs": [],
   "source": []
  }
 ],
 "metadata": {
  "kernelspec": {
   "display_name": "Python 3 (ipykernel)",
   "language": "python",
   "name": "python3"
  },
  "language_info": {
   "codemirror_mode": {
    "name": "ipython",
    "version": 3
   },
   "file_extension": ".py",
   "mimetype": "text/x-python",
   "name": "python",
   "nbconvert_exporter": "python",
   "pygments_lexer": "ipython3",
   "version": "3.11.7"
  }
 },
 "nbformat": 4,
 "nbformat_minor": 5
}
