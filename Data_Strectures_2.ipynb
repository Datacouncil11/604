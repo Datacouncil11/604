{
 "cells": [
  {
   "cell_type": "code",
   "execution_count": 1,
   "id": "eba48ab8-400a-4444-a431-292b3c27a035",
   "metadata": {},
   "outputs": [],
   "source": [
    "a = [1,2,3,4,5]"
   ]
  },
  {
   "cell_type": "code",
   "execution_count": 2,
   "id": "6aa9d380-9997-4708-affe-c33383686a7b",
   "metadata": {},
   "outputs": [
    {
     "data": {
      "text/plain": [
       "3"
      ]
     },
     "execution_count": 2,
     "metadata": {},
     "output_type": "execute_result"
    }
   ],
   "source": [
    "a[2]"
   ]
  },
  {
   "cell_type": "code",
   "execution_count": 3,
   "id": "11983772-1039-4936-b5bd-98cb7b6608e8",
   "metadata": {},
   "outputs": [
    {
     "data": {
      "text/plain": [
       "[1, 2, 3]"
      ]
     },
     "execution_count": 3,
     "metadata": {},
     "output_type": "execute_result"
    }
   ],
   "source": [
    "a[0:3]"
   ]
  },
  {
   "cell_type": "code",
   "execution_count": 4,
   "id": "761ab5d2-c31f-429d-8cf9-74055dcf876e",
   "metadata": {},
   "outputs": [
    {
     "data": {
      "text/plain": [
       "[1, 2, 3, 4, 5]"
      ]
     },
     "execution_count": 4,
     "metadata": {},
     "output_type": "execute_result"
    }
   ],
   "source": [
    "a[:]"
   ]
  },
  {
   "cell_type": "code",
   "execution_count": 5,
   "id": "913110bd-5f9e-473b-8a7c-d88aeb119461",
   "metadata": {},
   "outputs": [],
   "source": [
    "# Return list in reverse order"
   ]
  },
  {
   "cell_type": "code",
   "execution_count": 6,
   "id": "7e1cac82-bca5-4a11-b944-799e95a44e0a",
   "metadata": {},
   "outputs": [
    {
     "data": {
      "text/plain": [
       "[5, 4, 3, 2, 1]"
      ]
     },
     "execution_count": 6,
     "metadata": {},
     "output_type": "execute_result"
    }
   ],
   "source": [
    "a[::-1]"
   ]
  },
  {
   "cell_type": "code",
   "execution_count": 7,
   "id": "78f8c1ad-7705-41b2-9aad-3094f2fefa0e",
   "metadata": {},
   "outputs": [
    {
     "data": {
      "text/plain": [
       "5"
      ]
     },
     "execution_count": 7,
     "metadata": {},
     "output_type": "execute_result"
    }
   ],
   "source": [
    "a[-1]"
   ]
  },
  {
   "cell_type": "code",
   "execution_count": null,
   "id": "c48b351c-a9fa-4e4b-a0b9-759206943361",
   "metadata": {},
   "outputs": [],
   "source": []
  },
  {
   "cell_type": "code",
   "execution_count": 10,
   "id": "7b55abd6-29b3-460e-8174-792293526625",
   "metadata": {},
   "outputs": [
    {
     "data": {
      "text/plain": [
       "[]"
      ]
     },
     "execution_count": 10,
     "metadata": {},
     "output_type": "execute_result"
    }
   ],
   "source": [
    "a[-1:-4]"
   ]
  },
  {
   "cell_type": "code",
   "execution_count": 11,
   "id": "b0265872-d8fc-46e0-9ac7-79abba469376",
   "metadata": {},
   "outputs": [
    {
     "data": {
      "text/plain": [
       "[5, 4, 3]"
      ]
     },
     "execution_count": 11,
     "metadata": {},
     "output_type": "execute_result"
    }
   ],
   "source": [
    "a[-1:-4:-1]"
   ]
  },
  {
   "cell_type": "code",
   "execution_count": 12,
   "id": "c67f8293-6fbc-4b3d-be80-2101df93c83e",
   "metadata": {},
   "outputs": [
    {
     "data": {
      "text/plain": [
       "[1, 2, 3, 4, 5]"
      ]
     },
     "execution_count": 12,
     "metadata": {},
     "output_type": "execute_result"
    }
   ],
   "source": [
    "a"
   ]
  },
  {
   "cell_type": "code",
   "execution_count": 13,
   "id": "47e0d298-67a6-4a56-9288-dd816ff90b32",
   "metadata": {},
   "outputs": [
    {
     "data": {
      "text/plain": [
       "[5, 4, 3, 2, 1]"
      ]
     },
     "execution_count": 13,
     "metadata": {},
     "output_type": "execute_result"
    }
   ],
   "source": [
    "a[::-1]"
   ]
  },
  {
   "cell_type": "code",
   "execution_count": 14,
   "id": "9170e274-6b62-42d0-b375-5b41d9b49b6f",
   "metadata": {},
   "outputs": [],
   "source": [
    "# Fetching Interview Questions"
   ]
  },
  {
   "cell_type": "code",
   "execution_count": 15,
   "id": "b58e1662-9d16-440f-9d0c-ee5aad073fb6",
   "metadata": {},
   "outputs": [
    {
     "data": {
      "text/plain": [
       "3"
      ]
     },
     "execution_count": 15,
     "metadata": {},
     "output_type": "execute_result"
    }
   ],
   "source": [
    "a[2]"
   ]
  },
  {
   "cell_type": "code",
   "execution_count": 16,
   "id": "a7ba1d4d-2384-4d10-bbe3-fed450e8ec00",
   "metadata": {},
   "outputs": [],
   "source": [
    "a = 'NewYear'"
   ]
  },
  {
   "cell_type": "code",
   "execution_count": 17,
   "id": "7ea5d0ca-a9a9-412c-8aa3-e3d23d510665",
   "metadata": {},
   "outputs": [
    {
     "data": {
      "text/plain": [
       "'e'"
      ]
     },
     "execution_count": 17,
     "metadata": {},
     "output_type": "execute_result"
    }
   ],
   "source": [
    "a[1]"
   ]
  },
  {
   "cell_type": "code",
   "execution_count": 18,
   "id": "acf6adee-d4c4-4c08-8d4f-7272bf16323c",
   "metadata": {},
   "outputs": [
    {
     "data": {
      "text/plain": [
       "'New'"
      ]
     },
     "execution_count": 18,
     "metadata": {},
     "output_type": "execute_result"
    }
   ],
   "source": [
    "a[0:3]"
   ]
  },
  {
   "cell_type": "code",
   "execution_count": 22,
   "id": "6b8df366-cd79-4978-b3a9-6bdf2e39baa2",
   "metadata": {},
   "outputs": [],
   "source": [
    "s = [1,2,3,4,5]"
   ]
  },
  {
   "cell_type": "code",
   "execution_count": 24,
   "id": "cc9967fc-17a8-4ac8-8baf-bc7ad4571f50",
   "metadata": {},
   "outputs": [],
   "source": [
    "s.append(6)"
   ]
  },
  {
   "cell_type": "code",
   "execution_count": 25,
   "id": "734fbbbe-eb28-46e5-a267-e33a8fecb845",
   "metadata": {},
   "outputs": [
    {
     "data": {
      "text/plain": [
       "[1, 2, 3, 4, 5, 6]"
      ]
     },
     "execution_count": 25,
     "metadata": {},
     "output_type": "execute_result"
    }
   ],
   "source": [
    "s"
   ]
  },
  {
   "cell_type": "code",
   "execution_count": 29,
   "id": "24f1afb1-2d30-4ac8-8a87-0d8d075854cf",
   "metadata": {},
   "outputs": [],
   "source": [
    "s.append([7,8])"
   ]
  },
  {
   "cell_type": "code",
   "execution_count": 30,
   "id": "e6c4088c-fa31-4175-8b54-ddeaf9951abe",
   "metadata": {},
   "outputs": [
    {
     "data": {
      "text/plain": [
       "[1, 2, 3, 4, 5, 6, [7, 8]]"
      ]
     },
     "execution_count": 30,
     "metadata": {},
     "output_type": "execute_result"
    }
   ],
   "source": [
    "s"
   ]
  },
  {
   "cell_type": "code",
   "execution_count": 32,
   "id": "78372412-8f22-40bf-989c-1caad0dedd1b",
   "metadata": {},
   "outputs": [],
   "source": [
    "s.extend([9,10])"
   ]
  },
  {
   "cell_type": "code",
   "execution_count": 33,
   "id": "0c7ca955-808b-420f-9b73-15fb4e373dd9",
   "metadata": {},
   "outputs": [
    {
     "data": {
      "text/plain": [
       "[1, 2, 3, 4, 5, 6, [7, 8], 9, 10]"
      ]
     },
     "execution_count": 33,
     "metadata": {},
     "output_type": "execute_result"
    }
   ],
   "source": [
    "s"
   ]
  },
  {
   "cell_type": "code",
   "execution_count": 34,
   "id": "1ed57e57-ed60-4c11-8141-032585be966c",
   "metadata": {},
   "outputs": [],
   "source": [
    "s.remove(5)"
   ]
  },
  {
   "cell_type": "code",
   "execution_count": 35,
   "id": "50f702cc-dd0e-451e-beba-715301dba4ff",
   "metadata": {},
   "outputs": [
    {
     "data": {
      "text/plain": [
       "[1, 2, 3, 4, 6, [7, 8], 9, 10]"
      ]
     },
     "execution_count": 35,
     "metadata": {},
     "output_type": "execute_result"
    }
   ],
   "source": [
    "s"
   ]
  },
  {
   "cell_type": "code",
   "execution_count": 36,
   "id": "e66eb8a9-d153-4663-8cae-ae21a82d96fb",
   "metadata": {},
   "outputs": [
    {
     "data": {
      "text/plain": [
       "10"
      ]
     },
     "execution_count": 36,
     "metadata": {},
     "output_type": "execute_result"
    }
   ],
   "source": [
    "s.pop() # Removing last number"
   ]
  },
  {
   "cell_type": "code",
   "execution_count": null,
   "id": "d74a2b9c-19bc-4858-a106-2c7abdb8b37e",
   "metadata": {},
   "outputs": [],
   "source": [
    "# Diff b/w Remove and Pop"
   ]
  },
  {
   "cell_type": "code",
   "execution_count": 37,
   "id": "bab0ab13-1b85-4d92-92b9-a5c70b4f80a0",
   "metadata": {},
   "outputs": [
    {
     "data": {
      "text/plain": [
       "[1, 2, 3, 4, 6, [7, 8], 9]"
      ]
     },
     "execution_count": 37,
     "metadata": {},
     "output_type": "execute_result"
    }
   ],
   "source": [
    "s"
   ]
  },
  {
   "cell_type": "code",
   "execution_count": 38,
   "id": "fc6f4495-dbab-41f9-868a-a0f9e86cfd2d",
   "metadata": {},
   "outputs": [],
   "source": [
    "s.insert(1,1000)  #1 -->index number, 1000 New valued for adding"
   ]
  },
  {
   "cell_type": "code",
   "execution_count": 39,
   "id": "24f49fd7-20ba-4186-a17d-ae8bab955239",
   "metadata": {},
   "outputs": [
    {
     "data": {
      "text/plain": [
       "[1, 1000, 2, 3, 4, 6, [7, 8], 9]"
      ]
     },
     "execution_count": 39,
     "metadata": {},
     "output_type": "execute_result"
    }
   ],
   "source": [
    "s"
   ]
  },
  {
   "cell_type": "code",
   "execution_count": 40,
   "id": "7a8443e3-3743-4476-ab7c-f6f70e3360d4",
   "metadata": {},
   "outputs": [],
   "source": [
    "f = [1,1,1,2,3,3,4,5,5]"
   ]
  },
  {
   "cell_type": "code",
   "execution_count": 41,
   "id": "6143118a-5671-42be-9d37-eae66491980f",
   "metadata": {},
   "outputs": [
    {
     "data": {
      "text/plain": [
       "3"
      ]
     },
     "execution_count": 41,
     "metadata": {},
     "output_type": "execute_result"
    }
   ],
   "source": [
    "f.count(1)"
   ]
  },
  {
   "cell_type": "code",
   "execution_count": null,
   "id": "80d23a33-144e-477e-973c-14efd6cd5739",
   "metadata": {},
   "outputs": [],
   "source": []
  },
  {
   "cell_type": "markdown",
   "id": "9ba5e8ed-8441-4135-87fb-66d178d43673",
   "metadata": {},
   "source": [
    "# Tuple"
   ]
  },
  {
   "cell_type": "code",
   "execution_count": 19,
   "id": "223fb3d3-d96f-4f4f-b813-2328076afdaf",
   "metadata": {},
   "outputs": [],
   "source": [
    "# Tuple is written in ()"
   ]
  },
  {
   "cell_type": "code",
   "execution_count": 20,
   "id": "6825d22a-ce40-4040-b779-57d5895c57e0",
   "metadata": {},
   "outputs": [],
   "source": [
    "d = (1,2,3,4,5)"
   ]
  },
  {
   "cell_type": "code",
   "execution_count": 21,
   "id": "37d43ce6-6c3a-4fcd-84a6-12245653dd79",
   "metadata": {},
   "outputs": [
    {
     "data": {
      "text/plain": [
       "tuple"
      ]
     },
     "execution_count": 21,
     "metadata": {},
     "output_type": "execute_result"
    }
   ],
   "source": [
    "type(d)"
   ]
  },
  {
   "cell_type": "code",
   "execution_count": 23,
   "id": "e01ffac7-8756-458e-acd9-de40b967b970",
   "metadata": {},
   "outputs": [
    {
     "data": {
      "text/plain": [
       "(1, 2, 3, 4, 5)"
      ]
     },
     "execution_count": 23,
     "metadata": {},
     "output_type": "execute_result"
    }
   ],
   "source": [
    "d"
   ]
  },
  {
   "cell_type": "code",
   "execution_count": 26,
   "id": "b456db3f-020d-4e38-8cb4-0f8b43ad01d5",
   "metadata": {},
   "outputs": [
    {
     "data": {
      "text/plain": [
       "1"
      ]
     },
     "execution_count": 26,
     "metadata": {},
     "output_type": "execute_result"
    }
   ],
   "source": [
    "d.count(4)"
   ]
  },
  {
   "cell_type": "code",
   "execution_count": 27,
   "id": "3238fe08-4105-4e0a-9f92-c7fad1945268",
   "metadata": {},
   "outputs": [
    {
     "data": {
      "text/plain": [
       "4"
      ]
     },
     "execution_count": 27,
     "metadata": {},
     "output_type": "execute_result"
    }
   ],
   "source": [
    "d.index(5)"
   ]
  },
  {
   "cell_type": "code",
   "execution_count": 42,
   "id": "c38dc540-3618-4b73-ac80-746f21358d6b",
   "metadata": {},
   "outputs": [],
   "source": [
    "t = (100,200,300)"
   ]
  },
  {
   "cell_type": "code",
   "execution_count": 43,
   "id": "af8b6da4-88ca-4e3f-8c7c-c4da74cb07f5",
   "metadata": {},
   "outputs": [
    {
     "data": {
      "text/plain": [
       "(100, 200, 300)"
      ]
     },
     "execution_count": 43,
     "metadata": {},
     "output_type": "execute_result"
    }
   ],
   "source": [
    "t"
   ]
  },
  {
   "cell_type": "code",
   "execution_count": 44,
   "id": "23e94995-506c-472e-b46f-8289c4dc2e7c",
   "metadata": {},
   "outputs": [
    {
     "data": {
      "text/plain": [
       "(1, 2, 3, 4)"
      ]
     },
     "execution_count": 44,
     "metadata": {},
     "output_type": "execute_result"
    }
   ],
   "source": [
    "tuple([1,2,3,4])"
   ]
  },
  {
   "cell_type": "code",
   "execution_count": 46,
   "id": "c1d3ae6e-2ecb-44cb-9f1d-ac556efdd575",
   "metadata": {},
   "outputs": [
    {
     "data": {
      "text/plain": [
       "[10, 20, 30]"
      ]
     },
     "execution_count": 46,
     "metadata": {},
     "output_type": "execute_result"
    }
   ],
   "source": [
    "list((10,20,30))"
   ]
  },
  {
   "cell_type": "markdown",
   "id": "f239019b-4c62-42b4-8d0a-d98def6f8509",
   "metadata": {},
   "source": [
    "# SET"
   ]
  },
  {
   "cell_type": "code",
   "execution_count": 47,
   "id": "daf355cc-5b94-46d0-b5e4-02629936dc72",
   "metadata": {},
   "outputs": [],
   "source": [
    "a = {1,2,3}"
   ]
  },
  {
   "cell_type": "code",
   "execution_count": 48,
   "id": "0e7a7813-5000-485d-8bc3-861ce7038137",
   "metadata": {},
   "outputs": [
    {
     "data": {
      "text/plain": [
       "set"
      ]
     },
     "execution_count": 48,
     "metadata": {},
     "output_type": "execute_result"
    }
   ],
   "source": [
    "type(a)"
   ]
  },
  {
   "cell_type": "code",
   "execution_count": 49,
   "id": "6db35902-d334-4ccf-8560-503db342f9e1",
   "metadata": {},
   "outputs": [],
   "source": [
    "# Set doesnt allowsn the duplicated values"
   ]
  },
  {
   "cell_type": "code",
   "execution_count": 50,
   "id": "0121cd2d-2651-424d-99c5-e35dc78167bd",
   "metadata": {},
   "outputs": [],
   "source": [
    "d = {1,1,2,2,3,3,4}"
   ]
  },
  {
   "cell_type": "code",
   "execution_count": 51,
   "id": "9a254e2e-d5d4-4a31-8f01-b151949f0772",
   "metadata": {},
   "outputs": [
    {
     "data": {
      "text/plain": [
       "{1, 2, 3, 4}"
      ]
     },
     "execution_count": 51,
     "metadata": {},
     "output_type": "execute_result"
    }
   ],
   "source": [
    "d"
   ]
  },
  {
   "cell_type": "code",
   "execution_count": 52,
   "id": "171f025f-5bab-4c0e-bba4-b75755303543",
   "metadata": {},
   "outputs": [],
   "source": [
    "set_1 = {1,2,3}"
   ]
  },
  {
   "cell_type": "code",
   "execution_count": 53,
   "id": "50a19841-bf00-464a-9a1f-b534cca8264e",
   "metadata": {},
   "outputs": [],
   "source": [
    "set_2 = {3,4,5}"
   ]
  },
  {
   "cell_type": "code",
   "execution_count": 54,
   "id": "8d746e70-c25d-4238-8bfd-e27fbc57306c",
   "metadata": {},
   "outputs": [
    {
     "data": {
      "text/plain": [
       "{1, 2, 3, 4, 5}"
      ]
     },
     "execution_count": 54,
     "metadata": {},
     "output_type": "execute_result"
    }
   ],
   "source": [
    "set_1.union(set_2)"
   ]
  },
  {
   "cell_type": "code",
   "execution_count": null,
   "id": "6c879bc6-8e6f-4931-a90f-cf2d1ecc110a",
   "metadata": {},
   "outputs": [],
   "source": []
  }
 ],
 "metadata": {
  "kernelspec": {
   "display_name": "Python 3 (ipykernel)",
   "language": "python",
   "name": "python3"
  },
  "language_info": {
   "codemirror_mode": {
    "name": "ipython",
    "version": 3
   },
   "file_extension": ".py",
   "mimetype": "text/x-python",
   "name": "python",
   "nbconvert_exporter": "python",
   "pygments_lexer": "ipython3",
   "version": "3.11.7"
  }
 },
 "nbformat": 4,
 "nbformat_minor": 5
}
