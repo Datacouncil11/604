{
 "cells": [
  {
   "cell_type": "code",
   "execution_count": 2,
   "id": "3576f606-c924-422a-8973-f1f2a3828717",
   "metadata": {},
   "outputs": [
    {
     "name": "stdout",
     "output_type": "stream",
     "text": [
      "0\n",
      "1\n",
      "2\n",
      "3\n",
      "4\n"
     ]
    }
   ],
   "source": [
    "for i in range(5):\n",
    "    print(i)"
   ]
  },
  {
   "cell_type": "markdown",
   "id": "35310bf9-7403-42d9-a263-c3e893dc6f84",
   "metadata": {},
   "source": [
    "# Break"
   ]
  },
  {
   "cell_type": "code",
   "execution_count": 3,
   "id": "30a45d9c-049c-4f02-8e74-b44a1345546d",
   "metadata": {},
   "outputs": [
    {
     "name": "stdout",
     "output_type": "stream",
     "text": [
      "0\n",
      "1\n",
      "2\n"
     ]
    }
   ],
   "source": [
    "for i in range(5):\n",
    "    if i == 3:\n",
    "        break\n",
    "    print(i)"
   ]
  },
  {
   "cell_type": "code",
   "execution_count": 5,
   "id": "61510c2e-de30-424e-b7eb-e55467e1e6e6",
   "metadata": {},
   "outputs": [
    {
     "name": "stdout",
     "output_type": "stream",
     "text": [
      "d\n",
      "a\n",
      "t\n",
      "a\n",
      " \n",
      "c\n"
     ]
    }
   ],
   "source": [
    "for i in 'data council':\n",
    "    if i == 'o':\n",
    "        break\n",
    "    print(i)"
   ]
  },
  {
   "cell_type": "raw",
   "id": "fb09be60-37db-4305-9400-d11e4f3bce85",
   "metadata": {},
   "source": [
    "# The break statement is used to exit the current loop permanantly,\n",
    "regardless of whether the lopp's condition is still true"
   ]
  },
  {
   "cell_type": "code",
   "execution_count": 6,
   "id": "7ed7a3ca-1b32-471d-b399-6daf6d65db67",
   "metadata": {},
   "outputs": [],
   "source": [
    "l =['Om', 'Ramesh', 'Atharv', 'Suresh', 'Rahul']"
   ]
  },
  {
   "cell_type": "code",
   "execution_count": 8,
   "id": "a9e78585-c61a-4fcf-8dde-3c655f042f79",
   "metadata": {},
   "outputs": [
    {
     "name": "stdout",
     "output_type": "stream",
     "text": [
      "Om\n",
      "Ramesh\n"
     ]
    }
   ],
   "source": [
    "for i in l :\n",
    "    if i ==\"Atharv\":\n",
    "         break\n",
    "    print(i)"
   ]
  },
  {
   "cell_type": "code",
   "execution_count": 13,
   "id": "8d31f59b-d861-4a5c-b285-1e65902b7b68",
   "metadata": {},
   "outputs": [
    {
     "name": "stdout",
     "output_type": "stream",
     "text": [
      "0 0\n",
      "1 1\n",
      "2 4\n",
      "3 9\n",
      "4 16\n",
      "5 25\n",
      "6 36\n",
      "7 49\n",
      "8 64\n",
      "9 81\n",
      "10 100\n"
     ]
    }
   ],
   "source": [
    "for i in range(50):\n",
    "    if i ** 2 > 100:\n",
    "        break\n",
    "    print(i,i ** 2)"
   ]
  },
  {
   "cell_type": "markdown",
   "id": "4f24df2c-bf0c-470c-8ff2-08277d3ff523",
   "metadata": {},
   "source": [
    "# Continue"
   ]
  },
  {
   "cell_type": "code",
   "execution_count": 14,
   "id": "f5daaaa9-4058-4308-82d0-a56db52bd309",
   "metadata": {},
   "outputs": [
    {
     "name": "stdout",
     "output_type": "stream",
     "text": [
      "0\n",
      "1\n",
      "3\n",
      "4\n"
     ]
    }
   ],
   "source": [
    "for i in range(5):\n",
    "    if i == 2:\n",
    "        continue\n",
    "    print(i)"
   ]
  },
  {
   "cell_type": "code",
   "execution_count": 15,
   "id": "f3bdc7b6-908a-45f8-b66a-ed2bd8e0459b",
   "metadata": {},
   "outputs": [
    {
     "data": {
      "text/plain": [
       "['Om', 'Ramesh', 'Atharv', 'Suresh', 'Rahul']"
      ]
     },
     "execution_count": 15,
     "metadata": {},
     "output_type": "execute_result"
    }
   ],
   "source": [
    "l"
   ]
  },
  {
   "cell_type": "code",
   "execution_count": 16,
   "id": "4ffe319c-df26-4b21-96be-be8e8f1194d0",
   "metadata": {},
   "outputs": [],
   "source": [
    "# I have to distribute money"
   ]
  },
  {
   "cell_type": "code",
   "execution_count": 17,
   "id": "e7851448-e0cb-4359-847f-7527c1619c66",
   "metadata": {},
   "outputs": [
    {
     "name": "stdout",
     "output_type": "stream",
     "text": [
      "Money paid to  Om\n",
      "Money paid to  Ramesh\n",
      "Money paid to  Atharv\n",
      "Money paid to  Rahul\n"
     ]
    }
   ],
   "source": [
    "for i in l:\n",
    "    if i == 'Suresh':\n",
    "        continue\n",
    "    print('Money paid to ', i)"
   ]
  },
  {
   "cell_type": "code",
   "execution_count": 18,
   "id": "ed835420-a427-4d1b-8bb5-c0453e4bb76f",
   "metadata": {},
   "outputs": [
    {
     "name": "stdout",
     "output_type": "stream",
     "text": [
      "d\n",
      "t\n",
      " \n",
      "c\n",
      "o\n",
      "u\n",
      "n\n",
      "c\n",
      "i\n",
      "l\n"
     ]
    }
   ],
   "source": [
    "for i in 'data council':\n",
    "    if i == 'a':\n",
    "        continue\n",
    "    print(i)"
   ]
  },
  {
   "cell_type": "raw",
   "id": "549976a5-a170-4684-8dc9-ee0465d67fe5",
   "metadata": {},
   "source": [
    "# The continue statement is used to skip th rest of the current iteration of a loop and \n",
    "move to the next iteration"
   ]
  },
  {
   "cell_type": "markdown",
   "id": "1dfb2e36-b6c6-4aeb-a738-c6fc15b968b9",
   "metadata": {},
   "source": [
    "# Pass --> Do nothing"
   ]
  },
  {
   "cell_type": "code",
   "execution_count": 19,
   "id": "1b8e9192-c8e1-406a-b18c-ac6f949f25fc",
   "metadata": {},
   "outputs": [
    {
     "name": "stdout",
     "output_type": "stream",
     "text": [
      "0\n",
      "1\n",
      "3\n",
      "4\n"
     ]
    }
   ],
   "source": [
    "for i in range(5):\n",
    "    if i == 2:\n",
    "        pass\n",
    "    else:\n",
    "        print(i)"
   ]
  },
  {
   "cell_type": "code",
   "execution_count": 21,
   "id": "ea79b53d-7142-4061-83b7-824f1e5c7e07",
   "metadata": {},
   "outputs": [],
   "source": [
    "if 5 < 10:\n",
    "    assp"
   ]
  },
  {
   "cell_type": "code",
   "execution_count": null,
   "id": "a50a902c-a0fe-4912-8a2f-31a641b73ea1",
   "metadata": {},
   "outputs": [],
   "source": []
  }
 ],
 "metadata": {
  "kernelspec": {
   "display_name": "Python 3 (ipykernel)",
   "language": "python",
   "name": "python3"
  },
  "language_info": {
   "codemirror_mode": {
    "name": "ipython",
    "version": 3
   },
   "file_extension": ".py",
   "mimetype": "text/x-python",
   "name": "python",
   "nbconvert_exporter": "python",
   "pygments_lexer": "ipython3",
   "version": "3.11.7"
  }
 },
 "nbformat": 4,
 "nbformat_minor": 5
}
