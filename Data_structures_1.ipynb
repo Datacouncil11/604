{
 "cells": [
  {
   "cell_type": "markdown",
   "id": "c155abc2-66c0-4795-a898-c9152cdefca2",
   "metadata": {},
   "source": [
    "# List"
   ]
  },
  {
   "cell_type": "code",
   "execution_count": 1,
   "id": "8e6b123e-bc52-4526-a20f-af4d78b9e202",
   "metadata": {},
   "outputs": [],
   "source": [
    "a = [1,2,3,4,5]"
   ]
  },
  {
   "cell_type": "code",
   "execution_count": 2,
   "id": "0557fb09-29cf-4744-9b4e-2ed27a26d344",
   "metadata": {},
   "outputs": [
    {
     "data": {
      "text/plain": [
       "[1, 2, 3, 4, 5]"
      ]
     },
     "execution_count": 2,
     "metadata": {},
     "output_type": "execute_result"
    }
   ],
   "source": [
    "a"
   ]
  },
  {
   "cell_type": "code",
   "execution_count": 3,
   "id": "977c507d-34f2-4ee2-beb0-523fa0871072",
   "metadata": {},
   "outputs": [
    {
     "data": {
      "text/plain": [
       "list"
      ]
     },
     "execution_count": 3,
     "metadata": {},
     "output_type": "execute_result"
    }
   ],
   "source": [
    "type(a)"
   ]
  },
  {
   "cell_type": "code",
   "execution_count": 4,
   "id": "76c0d340-1842-441e-9779-3e051d93b326",
   "metadata": {},
   "outputs": [],
   "source": [
    "mix = [1,2.5,10+5j,True,'Data']"
   ]
  },
  {
   "cell_type": "code",
   "execution_count": 5,
   "id": "1e9dc5b9-6105-4069-aa32-111de2b45525",
   "metadata": {},
   "outputs": [
    {
     "data": {
      "text/plain": [
       "[1, 2.5, (10+5j), True, 'Data']"
      ]
     },
     "execution_count": 5,
     "metadata": {},
     "output_type": "execute_result"
    }
   ],
   "source": [
    "mix"
   ]
  },
  {
   "cell_type": "markdown",
   "id": "d20c73b3-4152-4248-a9a3-71a2bfe8d8a2",
   "metadata": {},
   "source": [
    "# Slicing Operation|"
   ]
  },
  {
   "cell_type": "code",
   "execution_count": 6,
   "id": "dfef600c-2653-4212-9500-b6b7ff2641e6",
   "metadata": {},
   "outputs": [
    {
     "data": {
      "text/plain": [
       "[1, 2, 3, 4, 5]"
      ]
     },
     "execution_count": 6,
     "metadata": {},
     "output_type": "execute_result"
    }
   ],
   "source": [
    "a"
   ]
  },
  {
   "cell_type": "code",
   "execution_count": 7,
   "id": "9b16cb62-9d71-4852-abbb-3d3b35dfd19e",
   "metadata": {},
   "outputs": [
    {
     "data": {
      "text/plain": [
       "1"
      ]
     },
     "execution_count": 7,
     "metadata": {},
     "output_type": "execute_result"
    }
   ],
   "source": [
    "a[0] # a[index number]"
   ]
  },
  {
   "cell_type": "code",
   "execution_count": 8,
   "id": "99f46a63-e7db-43aa-9fb7-18defe4c72f2",
   "metadata": {},
   "outputs": [
    {
     "data": {
      "text/plain": [
       "3"
      ]
     },
     "execution_count": 8,
     "metadata": {},
     "output_type": "execute_result"
    }
   ],
   "source": [
    "a[2]"
   ]
  },
  {
   "cell_type": "code",
   "execution_count": 9,
   "id": "9f7f322c-8294-48e2-b70e-5a00b7ad70b1",
   "metadata": {},
   "outputs": [
    {
     "data": {
      "text/plain": [
       "5"
      ]
     },
     "execution_count": 9,
     "metadata": {},
     "output_type": "execute_result"
    }
   ],
   "source": [
    "a[4]"
   ]
  },
  {
   "cell_type": "code",
   "execution_count": 10,
   "id": "90c177c7-9591-41d4-bb8a-7896d36dc963",
   "metadata": {},
   "outputs": [
    {
     "data": {
      "text/plain": [
       "[1, 2, 3, 4, 5]"
      ]
     },
     "execution_count": 10,
     "metadata": {},
     "output_type": "execute_result"
    }
   ],
   "source": [
    "a"
   ]
  },
  {
   "cell_type": "code",
   "execution_count": 11,
   "id": "c8f077f4-a580-4ba8-8374-02987a16f418",
   "metadata": {},
   "outputs": [
    {
     "data": {
      "text/plain": [
       "[1, 2, 3]"
      ]
     },
     "execution_count": 11,
     "metadata": {},
     "output_type": "execute_result"
    }
   ],
   "source": [
    "a[0:3] # starting : Ending point"
   ]
  },
  {
   "cell_type": "code",
   "execution_count": 12,
   "id": "22d5b148-74ad-474b-84ba-d45ddf111be3",
   "metadata": {},
   "outputs": [],
   "source": [
    "n = ['Dhoni', 'Sachin','Mahesh','Mitali','Sania']"
   ]
  },
  {
   "cell_type": "code",
   "execution_count": 13,
   "id": "5c64ed74-6a97-4866-a46d-a17317ef1b52",
   "metadata": {},
   "outputs": [
    {
     "data": {
      "text/plain": [
       "['Dhoni', 'Sachin', 'Mahesh']"
      ]
     },
     "execution_count": 13,
     "metadata": {},
     "output_type": "execute_result"
    }
   ],
   "source": [
    "n[0:3]"
   ]
  },
  {
   "cell_type": "code",
   "execution_count": 14,
   "id": "8713e637-8660-4556-8f94-7d35f54a5df0",
   "metadata": {},
   "outputs": [
    {
     "data": {
      "text/plain": [
       "'Mitali'"
      ]
     },
     "execution_count": 14,
     "metadata": {},
     "output_type": "execute_result"
    }
   ],
   "source": [
    "n[3]"
   ]
  },
  {
   "cell_type": "code",
   "execution_count": 15,
   "id": "07812917-eb2d-4dd4-8628-b889ab282e2a",
   "metadata": {},
   "outputs": [
    {
     "data": {
      "text/plain": [
       "['Sachin', 'Mahesh', 'Mitali']"
      ]
     },
     "execution_count": 15,
     "metadata": {},
     "output_type": "execute_result"
    }
   ],
   "source": [
    "n[1:4]"
   ]
  },
  {
   "cell_type": "code",
   "execution_count": 16,
   "id": "71052f69-b545-4e20-bfbd-56970c96cdfd",
   "metadata": {},
   "outputs": [],
   "source": [
    "x = [1,2,3,4,5,6,7,8]"
   ]
  },
  {
   "cell_type": "code",
   "execution_count": 18,
   "id": "4f384b4d-ea5b-49bf-9b5f-9ee9c9cd32f2",
   "metadata": {},
   "outputs": [
    {
     "data": {
      "text/plain": [
       "[1, 2, 3, 4]"
      ]
     },
     "execution_count": 18,
     "metadata": {},
     "output_type": "execute_result"
    }
   ],
   "source": [
    "x[0:4]"
   ]
  },
  {
   "cell_type": "code",
   "execution_count": 19,
   "id": "ed2729fe-0fae-48f3-8923-5efe20ef81e4",
   "metadata": {},
   "outputs": [
    {
     "data": {
      "text/plain": [
       "[1, 2, 3, 4]"
      ]
     },
     "execution_count": 19,
     "metadata": {},
     "output_type": "execute_result"
    }
   ],
   "source": [
    "x[0:4:1]"
   ]
  },
  {
   "cell_type": "code",
   "execution_count": 20,
   "id": "2cfd812d-4dac-41ff-a12e-2e003084fd4c",
   "metadata": {},
   "outputs": [
    {
     "data": {
      "text/plain": [
       "[1, 3]"
      ]
     },
     "execution_count": 20,
     "metadata": {},
     "output_type": "execute_result"
    }
   ],
   "source": [
    "x[0:4:2]"
   ]
  },
  {
   "cell_type": "code",
   "execution_count": 21,
   "id": "53bd6dd5-19b7-4417-a5d4-b5d0977f5763",
   "metadata": {},
   "outputs": [
    {
     "data": {
      "text/plain": [
       "[1, 2, 3, 4, 5, 6, 7, 8]"
      ]
     },
     "execution_count": 21,
     "metadata": {},
     "output_type": "execute_result"
    }
   ],
   "source": [
    "x[:]  #Start from zero till end"
   ]
  },
  {
   "cell_type": "code",
   "execution_count": 22,
   "id": "1159f2fd-1612-40ed-a63f-a584879817c3",
   "metadata": {},
   "outputs": [
    {
     "data": {
      "text/plain": [
       "[1, 3, 5, 7]"
      ]
     },
     "execution_count": 22,
     "metadata": {},
     "output_type": "execute_result"
    }
   ],
   "source": [
    "x[::2]"
   ]
  },
  {
   "cell_type": "code",
   "execution_count": 23,
   "id": "07e8f023-08be-4e48-8dbd-24e44bc9dcf3",
   "metadata": {},
   "outputs": [
    {
     "data": {
      "text/plain": [
       "[1, 4, 7]"
      ]
     },
     "execution_count": 23,
     "metadata": {},
     "output_type": "execute_result"
    }
   ],
   "source": [
    "x[::3]"
   ]
  },
  {
   "cell_type": "code",
   "execution_count": 24,
   "id": "7a31308e-6537-4deb-b77b-92aedbca1bb2",
   "metadata": {},
   "outputs": [
    {
     "data": {
      "text/plain": [
       "['Dhoni', 'Sachin', 'Mahesh', 'Mitali', 'Sania']"
      ]
     },
     "execution_count": 24,
     "metadata": {},
     "output_type": "execute_result"
    }
   ],
   "source": [
    "n"
   ]
  },
  {
   "cell_type": "code",
   "execution_count": 25,
   "id": "696a2897-db53-4270-900e-34246abcf92c",
   "metadata": {},
   "outputs": [
    {
     "data": {
      "text/plain": [
       "['Dhoni', 'Mahesh', 'Sania']"
      ]
     },
     "execution_count": 25,
     "metadata": {},
     "output_type": "execute_result"
    }
   ],
   "source": [
    "n[::2]"
   ]
  },
  {
   "cell_type": "code",
   "execution_count": null,
   "id": "802c7962-ced5-4a82-865b-c362bc34d40b",
   "metadata": {},
   "outputs": [],
   "source": []
  }
 ],
 "metadata": {
  "kernelspec": {
   "display_name": "Python 3 (ipykernel)",
   "language": "python",
   "name": "python3"
  },
  "language_info": {
   "codemirror_mode": {
    "name": "ipython",
    "version": 3
   },
   "file_extension": ".py",
   "mimetype": "text/x-python",
   "name": "python",
   "nbconvert_exporter": "python",
   "pygments_lexer": "ipython3",
   "version": "3.11.7"
  }
 },
 "nbformat": 4,
 "nbformat_minor": 5
}
