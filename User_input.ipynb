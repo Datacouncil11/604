{
 "cells": [
  {
   "cell_type": "code",
   "execution_count": 24,
   "id": "5210e460-75d7-4b10-b8e6-597c3bf3c2e1",
   "metadata": {},
   "outputs": [
    {
     "name": "stdin",
     "output_type": "stream",
     "text": [
      "Write your name XYZ\n"
     ]
    }
   ],
   "source": [
    "name = input('Write your name')"
   ]
  },
  {
   "cell_type": "code",
   "execution_count": 10,
   "id": "ec391ce3-1042-45b6-9831-b61f7a8aeca3",
   "metadata": {},
   "outputs": [],
   "source": [
    "# By  defult data type of input is string"
   ]
  },
  {
   "cell_type": "code",
   "execution_count": 4,
   "id": "7818917a-2699-414a-9a88-be4fa0205249",
   "metadata": {},
   "outputs": [
    {
     "name": "stdout",
     "output_type": "stream",
     "text": [
      "OM\n"
     ]
    }
   ],
   "source": [
    "print(name)"
   ]
  },
  {
   "cell_type": "code",
   "execution_count": 6,
   "id": "ec84b29f-c53b-4767-8069-f8d8de058411",
   "metadata": {},
   "outputs": [
    {
     "data": {
      "text/plain": [
       "str"
      ]
     },
     "execution_count": 6,
     "metadata": {},
     "output_type": "execute_result"
    }
   ],
   "source": [
    "type(name)"
   ]
  },
  {
   "cell_type": "code",
   "execution_count": 7,
   "id": "295fa709-413b-4ef8-b974-595a808da4ef",
   "metadata": {},
   "outputs": [
    {
     "name": "stdin",
     "output_type": "stream",
     "text": [
      "Write your marks 80\n"
     ]
    }
   ],
   "source": [
    "marks = input('Write your marks')"
   ]
  },
  {
   "cell_type": "code",
   "execution_count": 8,
   "id": "e8acaf74-c514-4156-a96f-a26f70236657",
   "metadata": {},
   "outputs": [
    {
     "name": "stdout",
     "output_type": "stream",
     "text": [
      "80\n"
     ]
    }
   ],
   "source": [
    "print(marks)"
   ]
  },
  {
   "cell_type": "code",
   "execution_count": 9,
   "id": "0ae9d193-f3e7-4c46-950f-aacfb165b0f2",
   "metadata": {},
   "outputs": [
    {
     "data": {
      "text/plain": [
       "str"
      ]
     },
     "execution_count": 9,
     "metadata": {},
     "output_type": "execute_result"
    }
   ],
   "source": [
    "type(marks)"
   ]
  },
  {
   "cell_type": "code",
   "execution_count": 20,
   "id": "5dc5ac22-bac9-40f5-b932-df457de8ef3b",
   "metadata": {},
   "outputs": [
    {
     "name": "stdin",
     "output_type": "stream",
     "text": [
      "Write your marks in int 834\n"
     ]
    }
   ],
   "source": [
    "marks = int(input('Write your marks in int'))"
   ]
  },
  {
   "cell_type": "code",
   "execution_count": 12,
   "id": "09015330-cdd7-4448-8ed9-27842811b1a8",
   "metadata": {},
   "outputs": [
    {
     "data": {
      "text/plain": [
       "int"
      ]
     },
     "execution_count": 12,
     "metadata": {},
     "output_type": "execute_result"
    }
   ],
   "source": [
    "type(marks)"
   ]
  },
  {
   "cell_type": "code",
   "execution_count": 15,
   "id": "131276db-29da-4659-91a2-024312a9ecc7",
   "metadata": {},
   "outputs": [
    {
     "name": "stdin",
     "output_type": "stream",
     "text": [
      "Enter your weight 23\n"
     ]
    }
   ],
   "source": [
    "weight = float(input('Enter your weight'))"
   ]
  },
  {
   "cell_type": "code",
   "execution_count": 16,
   "id": "a5db74ac-6057-4f73-a577-b01198f69b73",
   "metadata": {},
   "outputs": [
    {
     "data": {
      "text/plain": [
       "float"
      ]
     },
     "execution_count": 16,
     "metadata": {},
     "output_type": "execute_result"
    }
   ],
   "source": [
    "type(weight)"
   ]
  },
  {
   "cell_type": "code",
   "execution_count": 17,
   "id": "4cd05132-a5e7-4b2a-8b97-4083d7a0600d",
   "metadata": {},
   "outputs": [
    {
     "name": "stdout",
     "output_type": "stream",
     "text": [
      "23.0\n"
     ]
    }
   ],
   "source": [
    "print(weight)"
   ]
  },
  {
   "cell_type": "code",
   "execution_count": 26,
   "id": "a13858f4-41bd-4bc8-aab6-e66df62ce038",
   "metadata": {},
   "outputs": [
    {
     "name": "stdin",
     "output_type": "stream",
     "text": [
      " 10+5j\n"
     ]
    }
   ],
   "source": [
    "v1 = complex(input())"
   ]
  },
  {
   "cell_type": "code",
   "execution_count": 27,
   "id": "5b7693f5-7962-4503-9ae6-a818d3975599",
   "metadata": {},
   "outputs": [
    {
     "data": {
      "text/plain": [
       "complex"
      ]
     },
     "execution_count": 27,
     "metadata": {},
     "output_type": "execute_result"
    }
   ],
   "source": [
    "type(v1)"
   ]
  },
  {
   "cell_type": "code",
   "execution_count": 28,
   "id": "219a11c6-8346-4d2f-8c48-a382d6dc0513",
   "metadata": {},
   "outputs": [
    {
     "name": "stdin",
     "output_type": "stream",
     "text": [
      "Enter your marks 76\n"
     ]
    },
    {
     "name": "stdout",
     "output_type": "stream",
     "text": [
      "Your marks are 76\n"
     ]
    }
   ],
   "source": [
    "marks = int(input('Enter your marks'))\n",
    "print('Your marks are', marks)"
   ]
  },
  {
   "cell_type": "code",
   "execution_count": 29,
   "id": "9390aff8-4170-4e3a-ac31-e5dc5b23047b",
   "metadata": {},
   "outputs": [
    {
     "name": "stdin",
     "output_type": "stream",
     "text": [
      "Enter your name Om\n"
     ]
    },
    {
     "name": "stdout",
     "output_type": "stream",
     "text": [
      "Your name is  Om\n"
     ]
    }
   ],
   "source": [
    "name = input('Enter your name')\n",
    "print('Your name is ', name)"
   ]
  },
  {
   "cell_type": "code",
   "execution_count": 30,
   "id": "61827009-f06d-40ef-ad70-2843bb67a4cc",
   "metadata": {},
   "outputs": [
    {
     "name": "stdout",
     "output_type": "stream",
     "text": [
      "Your name is  Om Your marks are  76\n"
     ]
    }
   ],
   "source": [
    "print('Your name is ', name, 'Your marks are ', marks)"
   ]
  },
  {
   "cell_type": "code",
   "execution_count": 31,
   "id": "d7c578b0-8e52-4ae0-ace1-665011ca41ed",
   "metadata": {},
   "outputs": [],
   "source": [
    "# Comparison Operators"
   ]
  },
  {
   "cell_type": "code",
   "execution_count": 32,
   "id": "efa8c728-706e-4238-ba09-806762279469",
   "metadata": {},
   "outputs": [],
   "source": [
    "a = 5 # Variable a having 5 value"
   ]
  },
  {
   "cell_type": "code",
   "execution_count": 33,
   "id": "0be1d1a9-c9a0-4c38-9595-205120b790fa",
   "metadata": {},
   "outputs": [
    {
     "data": {
      "text/plain": [
       "True"
      ]
     },
     "execution_count": 33,
     "metadata": {},
     "output_type": "execute_result"
    }
   ],
   "source": [
    "a == 5 # Checking left side value with right side value"
   ]
  },
  {
   "cell_type": "code",
   "execution_count": 34,
   "id": "1499c879-7c29-4200-b900-1400f506a0b6",
   "metadata": {},
   "outputs": [
    {
     "data": {
      "text/plain": [
       "False"
      ]
     },
     "execution_count": 34,
     "metadata": {},
     "output_type": "execute_result"
    }
   ],
   "source": [
    "a == 10"
   ]
  },
  {
   "cell_type": "code",
   "execution_count": 35,
   "id": "b33b25ae-dbdc-4929-84df-780c8f066da2",
   "metadata": {},
   "outputs": [
    {
     "data": {
      "text/plain": [
       "True"
      ]
     },
     "execution_count": 35,
     "metadata": {},
     "output_type": "execute_result"
    }
   ],
   "source": [
    "a != 9"
   ]
  },
  {
   "cell_type": "code",
   "execution_count": 36,
   "id": "4b2c9a4b-638d-4a27-a2d9-ad4432324977",
   "metadata": {},
   "outputs": [
    {
     "data": {
      "text/plain": [
       "True"
      ]
     },
     "execution_count": 36,
     "metadata": {},
     "output_type": "execute_result"
    }
   ],
   "source": [
    "5 <= 10 "
   ]
  },
  {
   "cell_type": "code",
   "execution_count": 37,
   "id": "1118b010-f59d-49da-98b9-5e6af835e911",
   "metadata": {},
   "outputs": [
    {
     "data": {
      "text/plain": [
       "True"
      ]
     },
     "execution_count": 37,
     "metadata": {},
     "output_type": "execute_result"
    }
   ],
   "source": [
    "10 >= 8"
   ]
  },
  {
   "cell_type": "code",
   "execution_count": 38,
   "id": "55eef9ca-66b2-4374-92da-c9b483b6d527",
   "metadata": {},
   "outputs": [
    {
     "data": {
      "text/plain": [
       "True"
      ]
     },
     "execution_count": 38,
     "metadata": {},
     "output_type": "execute_result"
    }
   ],
   "source": [
    "10 <= 10"
   ]
  },
  {
   "cell_type": "code",
   "execution_count": null,
   "id": "636ed2a1-ab7c-47f4-944c-7d1463521ed6",
   "metadata": {},
   "outputs": [],
   "source": []
  }
 ],
 "metadata": {
  "kernelspec": {
   "display_name": "Python 3 (ipykernel)",
   "language": "python",
   "name": "python3"
  },
  "language_info": {
   "codemirror_mode": {
    "name": "ipython",
    "version": 3
   },
   "file_extension": ".py",
   "mimetype": "text/x-python",
   "name": "python",
   "nbconvert_exporter": "python",
   "pygments_lexer": "ipython3",
   "version": "3.11.7"
  }
 },
 "nbformat": 4,
 "nbformat_minor": 5
}
