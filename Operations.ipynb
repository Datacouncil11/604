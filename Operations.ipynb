{
 "cells": [
  {
   "cell_type": "code",
   "execution_count": 1,
   "id": "29c62593-6684-489b-aee8-d85d7676a203",
   "metadata": {},
   "outputs": [
    {
     "data": {
      "text/plain": [
       "True"
      ]
     },
     "execution_count": 1,
     "metadata": {},
     "output_type": "execute_result"
    }
   ],
   "source": [
    "True & True"
   ]
  },
  {
   "cell_type": "code",
   "execution_count": 2,
   "id": "478dc4c7-a172-4fcf-9acf-b4c726fe16c2",
   "metadata": {},
   "outputs": [
    {
     "data": {
      "text/plain": [
       "False"
      ]
     },
     "execution_count": 2,
     "metadata": {},
     "output_type": "execute_result"
    }
   ],
   "source": [
    "True & False"
   ]
  },
  {
   "cell_type": "code",
   "execution_count": 3,
   "id": "aaf4832b-fcf4-4ad5-aed2-e6abe0344b4e",
   "metadata": {},
   "outputs": [
    {
     "data": {
      "text/plain": [
       "False"
      ]
     },
     "execution_count": 3,
     "metadata": {},
     "output_type": "execute_result"
    }
   ],
   "source": [
    "False & False"
   ]
  },
  {
   "cell_type": "code",
   "execution_count": 4,
   "id": "ee4be23a-fa68-4f5b-870b-db4499ad4d8c",
   "metadata": {},
   "outputs": [
    {
     "data": {
      "text/plain": [
       "False"
      ]
     },
     "execution_count": 4,
     "metadata": {},
     "output_type": "execute_result"
    }
   ],
   "source": [
    "False & True"
   ]
  },
  {
   "cell_type": "code",
   "execution_count": 6,
   "id": "3b5db840-3695-401a-8822-e3df3a538383",
   "metadata": {},
   "outputs": [
    {
     "data": {
      "text/plain": [
       "True"
      ]
     },
     "execution_count": 6,
     "metadata": {},
     "output_type": "execute_result"
    }
   ],
   "source": [
    "True or True"
   ]
  },
  {
   "cell_type": "code",
   "execution_count": 7,
   "id": "5aaf68ec-1a56-414b-a790-c921220a9c67",
   "metadata": {},
   "outputs": [
    {
     "data": {
      "text/plain": [
       "True"
      ]
     },
     "execution_count": 7,
     "metadata": {},
     "output_type": "execute_result"
    }
   ],
   "source": [
    "True or False"
   ]
  },
  {
   "cell_type": "code",
   "execution_count": 8,
   "id": "5d969cb7-9331-4c50-80e0-41acd7ff4ccc",
   "metadata": {},
   "outputs": [
    {
     "data": {
      "text/plain": [
       "False"
      ]
     },
     "execution_count": 8,
     "metadata": {},
     "output_type": "execute_result"
    }
   ],
   "source": [
    "False or False"
   ]
  },
  {
   "cell_type": "code",
   "execution_count": 9,
   "id": "d89f4141-cac0-42df-8387-81b37a03e95a",
   "metadata": {},
   "outputs": [
    {
     "data": {
      "text/plain": [
       "True"
      ]
     },
     "execution_count": 9,
     "metadata": {},
     "output_type": "execute_result"
    }
   ],
   "source": [
    "False or True"
   ]
  },
  {
   "cell_type": "code",
   "execution_count": 11,
   "id": "0e7227b3-fbed-449d-970f-4f6bc93e1b9a",
   "metadata": {},
   "outputs": [],
   "source": [
    "# Value for True is 1\n",
    "# Value for False is 0"
   ]
  },
  {
   "cell_type": "code",
   "execution_count": 10,
   "id": "0bb79982-9f2e-4d2f-a8a7-0ebdedbbec75",
   "metadata": {},
   "outputs": [
    {
     "data": {
      "text/plain": [
       "2"
      ]
     },
     "execution_count": 10,
     "metadata": {},
     "output_type": "execute_result"
    }
   ],
   "source": [
    "True + True # 1 + 1"
   ]
  },
  {
   "cell_type": "code",
   "execution_count": 12,
   "id": "cfe83e1e-75d0-4b8a-9d5b-873cf74f7e54",
   "metadata": {},
   "outputs": [
    {
     "data": {
      "text/plain": [
       "1"
      ]
     },
     "execution_count": 12,
     "metadata": {},
     "output_type": "execute_result"
    }
   ],
   "source": [
    "True + False # 1 + 0"
   ]
  },
  {
   "cell_type": "code",
   "execution_count": 13,
   "id": "2c899803-d07b-437e-a01d-a430458833bf",
   "metadata": {},
   "outputs": [
    {
     "data": {
      "text/plain": [
       "0"
      ]
     },
     "execution_count": 13,
     "metadata": {},
     "output_type": "execute_result"
    }
   ],
   "source": [
    "False + False # 0 + 0"
   ]
  },
  {
   "cell_type": "code",
   "execution_count": 14,
   "id": "9fbf6e05-82c9-4ced-ac57-5c8a9ec724ab",
   "metadata": {},
   "outputs": [],
   "source": [
    "# Int "
   ]
  },
  {
   "cell_type": "code",
   "execution_count": 15,
   "id": "3c18ca46-e43a-4c27-a14a-eeb423c93f73",
   "metadata": {},
   "outputs": [
    {
     "data": {
      "text/plain": [
       "15"
      ]
     },
     "execution_count": 15,
     "metadata": {},
     "output_type": "execute_result"
    }
   ],
   "source": [
    "10 + 5 # Int + int"
   ]
  },
  {
   "cell_type": "code",
   "execution_count": 16,
   "id": "3c0c4f50-a602-47fd-a4e9-0096d1113607",
   "metadata": {},
   "outputs": [
    {
     "data": {
      "text/plain": [
       "7.5"
      ]
     },
     "execution_count": 16,
     "metadata": {},
     "output_type": "execute_result"
    }
   ],
   "source": [
    "5 + 2.5 #Int + Float --> Numerical"
   ]
  },
  {
   "cell_type": "code",
   "execution_count": 17,
   "id": "43be1a1f-ac06-4fd6-8fcd-ee2996e95ec2",
   "metadata": {},
   "outputs": [
    {
     "ename": "TypeError",
     "evalue": "unsupported operand type(s) for +: 'int' and 'str'",
     "output_type": "error",
     "traceback": [
      "\u001b[1;31m---------------------------------------------------------------------------\u001b[0m",
      "\u001b[1;31mTypeError\u001b[0m                                 Traceback (most recent call last)",
      "Cell \u001b[1;32mIn[17], line 1\u001b[0m\n\u001b[1;32m----> 1\u001b[0m \u001b[38;5;241m10\u001b[39m \u001b[38;5;241m+\u001b[39m \u001b[38;5;124m'\u001b[39m\u001b[38;5;124mNew\u001b[39m\u001b[38;5;124m'\u001b[39m\n",
      "\u001b[1;31mTypeError\u001b[0m: unsupported operand type(s) for +: 'int' and 'str'"
     ]
    }
   ],
   "source": [
    "10 + 'New' # Int + String"
   ]
  },
  {
   "cell_type": "code",
   "execution_count": 18,
   "id": "f2570991-0f4b-4f35-bb1e-c77e417480a0",
   "metadata": {},
   "outputs": [
    {
     "data": {
      "text/plain": [
       "'NewYear'"
      ]
     },
     "execution_count": 18,
     "metadata": {},
     "output_type": "execute_result"
    }
   ],
   "source": [
    "'New' + 'Year' # Str + Str"
   ]
  },
  {
   "cell_type": "code",
   "execution_count": 19,
   "id": "6a0c7154-3811-41a1-9311-98ff1254670c",
   "metadata": {},
   "outputs": [
    {
     "data": {
      "text/plain": [
       "'MyNameisXYZ'"
      ]
     },
     "execution_count": 19,
     "metadata": {},
     "output_type": "execute_result"
    }
   ],
   "source": [
    "'My' + 'Name' + 'is' + 'XYZ'"
   ]
  },
  {
   "cell_type": "code",
   "execution_count": 20,
   "id": "9d45894f-4673-47cc-a45e-b5b1c525113e",
   "metadata": {},
   "outputs": [
    {
     "data": {
      "text/plain": [
       "'My-Name-is-XYZ'"
      ]
     },
     "execution_count": 20,
     "metadata": {},
     "output_type": "execute_result"
    }
   ],
   "source": [
    "'My' + '-' + 'Name' + '-' + 'is' + '-' + 'XYZ'"
   ]
  },
  {
   "cell_type": "code",
   "execution_count": 21,
   "id": "b8d9c09d-ed83-432f-b9e4-c2c5dd2b690c",
   "metadata": {},
   "outputs": [
    {
     "data": {
      "text/plain": [
       "'My Name is XYZ'"
      ]
     },
     "execution_count": 21,
     "metadata": {},
     "output_type": "execute_result"
    }
   ],
   "source": [
    "'My' + ' ' + 'Name' + ' ' + 'is' + ' ' + 'XYZ'"
   ]
  },
  {
   "cell_type": "code",
   "execution_count": 22,
   "id": "f344a225-5d09-4762-bc22-d5f9ca88a740",
   "metadata": {},
   "outputs": [
    {
     "data": {
      "text/plain": [
       "'My Name is XYZ'"
      ]
     },
     "execution_count": 22,
     "metadata": {},
     "output_type": "execute_result"
    }
   ],
   "source": [
    "'My ' + 'Name ' + 'is ' + 'XYZ'"
   ]
  },
  {
   "cell_type": "code",
   "execution_count": 23,
   "id": "ac8229b1-28db-4b86-9300-b5a85440a862",
   "metadata": {},
   "outputs": [
    {
     "data": {
      "text/plain": [
       "'OmOmOmOmOm'"
      ]
     },
     "execution_count": 23,
     "metadata": {},
     "output_type": "execute_result"
    }
   ],
   "source": [
    "'Om' * 5"
   ]
  },
  {
   "cell_type": "code",
   "execution_count": 24,
   "id": "14afc2db-af68-417e-8360-4597e96af88a",
   "metadata": {},
   "outputs": [
    {
     "data": {
      "text/plain": [
       "'##############################'"
      ]
     },
     "execution_count": 24,
     "metadata": {},
     "output_type": "execute_result"
    }
   ],
   "source": [
    "'#' * 30"
   ]
  },
  {
   "cell_type": "raw",
   "id": "e3b264e0-3c31-4d5d-a51f-37b8a4baf10a",
   "metadata": {},
   "source": [
    "Str + Int --> NO\n",
    "Int + Float --> Yes\n",
    "Str + Str -->Yes"
   ]
  },
  {
   "cell_type": "code",
   "execution_count": null,
   "id": "ea36b42a-5cba-4eb3-892f-6a3d97a234d0",
   "metadata": {},
   "outputs": [],
   "source": []
  }
 ],
 "metadata": {
  "kernelspec": {
   "display_name": "Python 3 (ipykernel)",
   "language": "python",
   "name": "python3"
  },
  "language_info": {
   "codemirror_mode": {
    "name": "ipython",
    "version": 3
   },
   "file_extension": ".py",
   "mimetype": "text/x-python",
   "name": "python",
   "nbconvert_exporter": "python",
   "pygments_lexer": "ipython3",
   "version": "3.11.7"
  }
 },
 "nbformat": 4,
 "nbformat_minor": 5
}
